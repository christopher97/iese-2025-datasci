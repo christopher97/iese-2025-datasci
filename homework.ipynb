{
 "cells": [
  {
   "cell_type": "markdown",
   "id": "33f2fda3",
   "metadata": {},
   "source": [
    "# Bay Wheels Operation"
   ]
  },
  {
   "cell_type": "code",
   "execution_count": 1,
   "id": "ba49d65e",
   "metadata": {},
   "outputs": [],
   "source": [
    "import pandas as pd"
   ]
  },
  {
   "cell_type": "code",
   "execution_count": 2,
   "id": "bd75e20b",
   "metadata": {},
   "outputs": [],
   "source": [
    "path = 'https://raw.githubusercontent.com/MCanela-1954/Data/main/'"
   ]
  },
  {
   "cell_type": "code",
   "execution_count": 3,
   "id": "907ddc8c",
   "metadata": {},
   "outputs": [],
   "source": [
    "rides1 = pd.read_csv(path + 'bay_rides-1.csv.zip')\n",
    "rides2 = pd.read_csv(path + 'bay_rides-2.csv.zip')\n",
    "rides3 = pd.read_csv(path + 'bay_rides-3.csv.zip')\n",
    "rides4 = pd.read_csv(path + 'bay_rides-4.csv.zip')\n",
    "rides5 = pd.read_csv(path + 'bay_rides-5.csv.zip')"
   ]
  },
  {
   "cell_type": "code",
   "execution_count": 4,
   "id": "99dd0189",
   "metadata": {},
   "outputs": [],
   "source": [
    "rides = pd.concat([rides1, rides2, rides3, rides4, rides5])"
   ]
  },
  {
   "cell_type": "code",
   "execution_count": 5,
   "id": "f78ce5c1",
   "metadata": {},
   "outputs": [
    {
     "name": "stdout",
     "output_type": "stream",
     "text": [
      "<class 'pandas.core.frame.DataFrame'>\n",
      "Index: 7162392 entries, 0 to 1162391\n",
      "Data columns (total 6 columns):\n",
      " #   Column            Dtype \n",
      "---  ------            ----- \n",
      " 0   user_type         object\n",
      " 1   bike_type         object\n",
      " 2   start_time        object\n",
      " 3   start_station_id  object\n",
      " 4   end_time          object\n",
      " 5   end_station_id    object\n",
      "dtypes: object(6)\n",
      "memory usage: 382.5+ MB\n"
     ]
    }
   ],
   "source": [
    "rides.info()"
   ]
  },
  {
   "cell_type": "code",
   "execution_count": 6,
   "id": "796c2ffa",
   "metadata": {},
   "outputs": [
    {
     "data": {
      "text/html": [
       "<div>\n",
       "<style scoped>\n",
       "    .dataframe tbody tr th:only-of-type {\n",
       "        vertical-align: middle;\n",
       "    }\n",
       "\n",
       "    .dataframe tbody tr th {\n",
       "        vertical-align: top;\n",
       "    }\n",
       "\n",
       "    .dataframe thead th {\n",
       "        text-align: right;\n",
       "    }\n",
       "</style>\n",
       "<table border=\"1\" class=\"dataframe\">\n",
       "  <thead>\n",
       "    <tr style=\"text-align: right;\">\n",
       "      <th></th>\n",
       "      <th>user_type</th>\n",
       "      <th>bike_type</th>\n",
       "      <th>start_time</th>\n",
       "      <th>start_station_id</th>\n",
       "      <th>end_time</th>\n",
       "      <th>end_station_id</th>\n",
       "    </tr>\n",
       "  </thead>\n",
       "  <tbody>\n",
       "    <tr>\n",
       "      <th>0</th>\n",
       "      <td>casual</td>\n",
       "      <td>electric</td>\n",
       "      <td>2021-01-01 00:01:01</td>\n",
       "      <td>NaN</td>\n",
       "      <td>2021-01-01 00:31:31</td>\n",
       "      <td>NaN</td>\n",
       "    </tr>\n",
       "    <tr>\n",
       "      <th>1</th>\n",
       "      <td>member</td>\n",
       "      <td>classic</td>\n",
       "      <td>2021-01-01 00:01:11</td>\n",
       "      <td>SF-I24</td>\n",
       "      <td>2021-01-01 00:21:46</td>\n",
       "      <td>SF-L29</td>\n",
       "    </tr>\n",
       "    <tr>\n",
       "      <th>2</th>\n",
       "      <td>member</td>\n",
       "      <td>electric</td>\n",
       "      <td>2021-01-01 00:01:44</td>\n",
       "      <td>NaN</td>\n",
       "      <td>2021-01-01 01:01:05</td>\n",
       "      <td>NaN</td>\n",
       "    </tr>\n",
       "    <tr>\n",
       "      <th>3</th>\n",
       "      <td>casual</td>\n",
       "      <td>electric</td>\n",
       "      <td>2021-01-01 00:03:44</td>\n",
       "      <td>SF-G30-1</td>\n",
       "      <td>2021-01-01 00:44:51</td>\n",
       "      <td>NaN</td>\n",
       "    </tr>\n",
       "    <tr>\n",
       "      <th>4</th>\n",
       "      <td>casual</td>\n",
       "      <td>electric</td>\n",
       "      <td>2021-01-01 00:05:33</td>\n",
       "      <td>NaN</td>\n",
       "      <td>2021-01-01 00:22:02</td>\n",
       "      <td>NaN</td>\n",
       "    </tr>\n",
       "  </tbody>\n",
       "</table>\n",
       "</div>"
      ],
      "text/plain": [
       "  user_type bike_type           start_time start_station_id  \\\n",
       "0    casual  electric  2021-01-01 00:01:01              NaN   \n",
       "1    member   classic  2021-01-01 00:01:11           SF-I24   \n",
       "2    member  electric  2021-01-01 00:01:44              NaN   \n",
       "3    casual  electric  2021-01-01 00:03:44         SF-G30-1   \n",
       "4    casual  electric  2021-01-01 00:05:33              NaN   \n",
       "\n",
       "              end_time end_station_id  \n",
       "0  2021-01-01 00:31:31            NaN  \n",
       "1  2021-01-01 00:21:46         SF-L29  \n",
       "2  2021-01-01 01:01:05            NaN  \n",
       "3  2021-01-01 00:44:51            NaN  \n",
       "4  2021-01-01 00:22:02            NaN  "
      ]
     },
     "execution_count": 6,
     "metadata": {},
     "output_type": "execute_result"
    }
   ],
   "source": [
    "rides.head()"
   ]
  },
  {
   "cell_type": "markdown",
   "id": "e49c8778",
   "metadata": {},
   "source": [
    "We group by month to see the monthly variation in demand"
   ]
  },
  {
   "cell_type": "code",
   "execution_count": 7,
   "id": "e8a44a84",
   "metadata": {},
   "outputs": [
    {
     "data": {
      "text/html": [
       "<div>\n",
       "<style scoped>\n",
       "    .dataframe tbody tr th:only-of-type {\n",
       "        vertical-align: middle;\n",
       "    }\n",
       "\n",
       "    .dataframe tbody tr th {\n",
       "        vertical-align: top;\n",
       "    }\n",
       "\n",
       "    .dataframe thead th {\n",
       "        text-align: right;\n",
       "    }\n",
       "</style>\n",
       "<table border=\"1\" class=\"dataframe\">\n",
       "  <thead>\n",
       "    <tr style=\"text-align: right;\">\n",
       "      <th></th>\n",
       "      <th>user_type</th>\n",
       "      <th>bike_type</th>\n",
       "      <th>start_time</th>\n",
       "      <th>start_station_id</th>\n",
       "      <th>end_time</th>\n",
       "      <th>end_station_id</th>\n",
       "      <th>month</th>\n",
       "    </tr>\n",
       "  </thead>\n",
       "  <tbody>\n",
       "    <tr>\n",
       "      <th>0</th>\n",
       "      <td>casual</td>\n",
       "      <td>electric</td>\n",
       "      <td>2021-01-01 00:01:01</td>\n",
       "      <td>NaN</td>\n",
       "      <td>2021-01-01 00:31:31</td>\n",
       "      <td>NaN</td>\n",
       "      <td>2021-01-01 00:00:00</td>\n",
       "    </tr>\n",
       "    <tr>\n",
       "      <th>1</th>\n",
       "      <td>member</td>\n",
       "      <td>classic</td>\n",
       "      <td>2021-01-01 00:01:11</td>\n",
       "      <td>SF-I24</td>\n",
       "      <td>2021-01-01 00:21:46</td>\n",
       "      <td>SF-L29</td>\n",
       "      <td>2021-01-01 00:00:00</td>\n",
       "    </tr>\n",
       "    <tr>\n",
       "      <th>2</th>\n",
       "      <td>member</td>\n",
       "      <td>electric</td>\n",
       "      <td>2021-01-01 00:01:44</td>\n",
       "      <td>NaN</td>\n",
       "      <td>2021-01-01 01:01:05</td>\n",
       "      <td>NaN</td>\n",
       "      <td>2021-01-01 00:00:00</td>\n",
       "    </tr>\n",
       "    <tr>\n",
       "      <th>3</th>\n",
       "      <td>casual</td>\n",
       "      <td>electric</td>\n",
       "      <td>2021-01-01 00:03:44</td>\n",
       "      <td>SF-G30-1</td>\n",
       "      <td>2021-01-01 00:44:51</td>\n",
       "      <td>NaN</td>\n",
       "      <td>2021-01-01 00:00:00</td>\n",
       "    </tr>\n",
       "    <tr>\n",
       "      <th>4</th>\n",
       "      <td>casual</td>\n",
       "      <td>electric</td>\n",
       "      <td>2021-01-01 00:05:33</td>\n",
       "      <td>NaN</td>\n",
       "      <td>2021-01-01 00:22:02</td>\n",
       "      <td>NaN</td>\n",
       "      <td>2021-01-01 00:00:00</td>\n",
       "    </tr>\n",
       "  </tbody>\n",
       "</table>\n",
       "</div>"
      ],
      "text/plain": [
       "  user_type bike_type           start_time start_station_id  \\\n",
       "0    casual  electric  2021-01-01 00:01:01              NaN   \n",
       "1    member   classic  2021-01-01 00:01:11           SF-I24   \n",
       "2    member  electric  2021-01-01 00:01:44              NaN   \n",
       "3    casual  electric  2021-01-01 00:03:44         SF-G30-1   \n",
       "4    casual  electric  2021-01-01 00:05:33              NaN   \n",
       "\n",
       "              end_time end_station_id                month  \n",
       "0  2021-01-01 00:31:31            NaN  2021-01-01 00:00:00  \n",
       "1  2021-01-01 00:21:46         SF-L29  2021-01-01 00:00:00  \n",
       "2  2021-01-01 01:01:05            NaN  2021-01-01 00:00:00  \n",
       "3  2021-01-01 00:44:51            NaN  2021-01-01 00:00:00  \n",
       "4  2021-01-01 00:22:02            NaN  2021-01-01 00:00:00  "
      ]
     },
     "execution_count": 7,
     "metadata": {},
     "output_type": "execute_result"
    }
   ],
   "source": [
    "rides['month'] = rides['start_time'].str[:-11] + '01 00:00:00'\n",
    "rides.head()"
   ]
  },
  {
   "cell_type": "code",
   "execution_count": 8,
   "id": "b76f5e08",
   "metadata": {},
   "outputs": [
    {
     "name": "stdout",
     "output_type": "stream",
     "text": [
      "<class 'pandas.core.frame.DataFrame'>\n",
      "Index: 7162392 entries, 0 to 1162391\n",
      "Data columns (total 7 columns):\n",
      " #   Column            Dtype         \n",
      "---  ------            -----         \n",
      " 0   user_type         object        \n",
      " 1   bike_type         object        \n",
      " 2   start_time        object        \n",
      " 3   start_station_id  object        \n",
      " 4   end_time          object        \n",
      " 5   end_station_id    object        \n",
      " 6   month             datetime64[ns]\n",
      "dtypes: datetime64[ns](1), object(6)\n",
      "memory usage: 437.2+ MB\n"
     ]
    }
   ],
   "source": [
    "rides['month'] = rides['month'].astype('datetime64[ns]')\n",
    "rides.info()"
   ]
  },
  {
   "cell_type": "code",
   "execution_count": 9,
   "id": "74c576fb",
   "metadata": {},
   "outputs": [],
   "source": [
    "rides['electric'] = (rides['bike_type'] == 'electric')\n",
    "rides['classic'] = (rides['bike_type'] == 'classic')"
   ]
  },
  {
   "cell_type": "markdown",
   "id": "153ad7e6",
   "metadata": {},
   "source": [
    "We sum the data to group it by month"
   ]
  },
  {
   "cell_type": "markdown",
   "id": "e90762ed",
   "metadata": {},
   "source": [
    "### Question 1 - Analysis of the Variation in Demand Between Classic and Electric Bikes"
   ]
  },
  {
   "cell_type": "code",
   "execution_count": 10,
   "id": "6fb637c9",
   "metadata": {},
   "outputs": [
    {
     "data": {
      "text/html": [
       "<div>\n",
       "<style scoped>\n",
       "    .dataframe tbody tr th:only-of-type {\n",
       "        vertical-align: middle;\n",
       "    }\n",
       "\n",
       "    .dataframe tbody tr th {\n",
       "        vertical-align: top;\n",
       "    }\n",
       "\n",
       "    .dataframe thead th {\n",
       "        text-align: right;\n",
       "    }\n",
       "</style>\n",
       "<table border=\"1\" class=\"dataframe\">\n",
       "  <thead>\n",
       "    <tr style=\"text-align: right;\">\n",
       "      <th></th>\n",
       "      <th>electric</th>\n",
       "      <th>classic</th>\n",
       "    </tr>\n",
       "    <tr>\n",
       "      <th>month</th>\n",
       "      <th></th>\n",
       "      <th></th>\n",
       "    </tr>\n",
       "  </thead>\n",
       "  <tbody>\n",
       "    <tr>\n",
       "      <th>2021-01-01</th>\n",
       "      <td>70182</td>\n",
       "      <td>31110</td>\n",
       "    </tr>\n",
       "    <tr>\n",
       "      <th>2021-02-01</th>\n",
       "      <td>78352</td>\n",
       "      <td>31484</td>\n",
       "    </tr>\n",
       "    <tr>\n",
       "      <th>2021-03-01</th>\n",
       "      <td>93265</td>\n",
       "      <td>37311</td>\n",
       "    </tr>\n",
       "    <tr>\n",
       "      <th>2021-04-01</th>\n",
       "      <td>103932</td>\n",
       "      <td>40732</td>\n",
       "    </tr>\n",
       "    <tr>\n",
       "      <th>2021-05-01</th>\n",
       "      <td>120487</td>\n",
       "      <td>47393</td>\n",
       "    </tr>\n",
       "  </tbody>\n",
       "</table>\n",
       "</div>"
      ],
      "text/plain": [
       "            electric  classic\n",
       "month                        \n",
       "2021-01-01     70182    31110\n",
       "2021-02-01     78352    31484\n",
       "2021-03-01     93265    37311\n",
       "2021-04-01    103932    40732\n",
       "2021-05-01    120487    47393"
      ]
     },
     "execution_count": 10,
     "metadata": {},
     "output_type": "execute_result"
    }
   ],
   "source": [
    "df1 = rides[['month', 'electric', 'classic']].groupby(by='month').sum()\n",
    "df1.head()"
   ]
  },
  {
   "cell_type": "markdown",
   "id": "c81d1c72",
   "metadata": {},
   "source": [
    "Indexed using month"
   ]
  },
  {
   "cell_type": "code",
   "execution_count": 11,
   "id": "94f93ff4",
   "metadata": {},
   "outputs": [
    {
     "data": {
      "text/plain": [
       "DatetimeIndex(['2021-01-01', '2021-02-01', '2021-03-01', '2021-04-01',\n",
       "               '2021-05-01', '2021-06-01', '2021-07-01', '2021-08-01',\n",
       "               '2021-09-01', '2021-10-01', '2021-11-01', '2021-12-01',\n",
       "               '2022-01-01', '2022-02-01', '2022-03-01', '2022-04-01',\n",
       "               '2022-05-01', '2022-06-01', '2022-07-01', '2022-08-01',\n",
       "               '2022-09-01', '2022-10-01', '2022-11-01', '2022-12-01',\n",
       "               '2023-01-01', '2023-02-01', '2023-03-01', '2023-04-01',\n",
       "               '2023-05-01', '2023-06-01', '2023-07-01', '2023-08-01',\n",
       "               '2023-09-01', '2023-10-01', '2023-11-01', '2023-12-01'],\n",
       "              dtype='datetime64[ns]', name='month', freq=None)"
      ]
     },
     "execution_count": 11,
     "metadata": {},
     "output_type": "execute_result"
    }
   ],
   "source": [
    "df1.index"
   ]
  },
  {
   "cell_type": "code",
   "execution_count": 12,
   "id": "986535f9",
   "metadata": {},
   "outputs": [],
   "source": [
    "df1.index.name = None"
   ]
  },
  {
   "cell_type": "code",
   "execution_count": 13,
   "id": "b81e6084",
   "metadata": {},
   "outputs": [],
   "source": [
    "df1['total'] = df1['classic'] + df1['electric']"
   ]
  },
  {
   "cell_type": "markdown",
   "id": "35f16314",
   "metadata": {},
   "source": [
    "The result of grouping by month"
   ]
  },
  {
   "cell_type": "code",
   "execution_count": 14,
   "id": "6427011a",
   "metadata": {},
   "outputs": [
    {
     "data": {
      "text/html": [
       "<div>\n",
       "<style scoped>\n",
       "    .dataframe tbody tr th:only-of-type {\n",
       "        vertical-align: middle;\n",
       "    }\n",
       "\n",
       "    .dataframe tbody tr th {\n",
       "        vertical-align: top;\n",
       "    }\n",
       "\n",
       "    .dataframe thead th {\n",
       "        text-align: right;\n",
       "    }\n",
       "</style>\n",
       "<table border=\"1\" class=\"dataframe\">\n",
       "  <thead>\n",
       "    <tr style=\"text-align: right;\">\n",
       "      <th></th>\n",
       "      <th>electric</th>\n",
       "      <th>classic</th>\n",
       "      <th>total</th>\n",
       "      <th>month</th>\n",
       "    </tr>\n",
       "  </thead>\n",
       "  <tbody>\n",
       "    <tr>\n",
       "      <th>2021-01-01</th>\n",
       "      <td>70182</td>\n",
       "      <td>31110</td>\n",
       "      <td>101292</td>\n",
       "      <td>2021-01-01</td>\n",
       "    </tr>\n",
       "    <tr>\n",
       "      <th>2021-02-01</th>\n",
       "      <td>78352</td>\n",
       "      <td>31484</td>\n",
       "      <td>109836</td>\n",
       "      <td>2021-02-01</td>\n",
       "    </tr>\n",
       "    <tr>\n",
       "      <th>2021-03-01</th>\n",
       "      <td>93265</td>\n",
       "      <td>37311</td>\n",
       "      <td>130576</td>\n",
       "      <td>2021-03-01</td>\n",
       "    </tr>\n",
       "    <tr>\n",
       "      <th>2021-04-01</th>\n",
       "      <td>103932</td>\n",
       "      <td>40732</td>\n",
       "      <td>144664</td>\n",
       "      <td>2021-04-01</td>\n",
       "    </tr>\n",
       "    <tr>\n",
       "      <th>2021-05-01</th>\n",
       "      <td>120487</td>\n",
       "      <td>47393</td>\n",
       "      <td>167880</td>\n",
       "      <td>2021-05-01</td>\n",
       "    </tr>\n",
       "  </tbody>\n",
       "</table>\n",
       "</div>"
      ],
      "text/plain": [
       "            electric  classic   total      month\n",
       "2021-01-01     70182    31110  101292 2021-01-01\n",
       "2021-02-01     78352    31484  109836 2021-02-01\n",
       "2021-03-01     93265    37311  130576 2021-03-01\n",
       "2021-04-01    103932    40732  144664 2021-04-01\n",
       "2021-05-01    120487    47393  167880 2021-05-01"
      ]
     },
     "execution_count": 14,
     "metadata": {},
     "output_type": "execute_result"
    }
   ],
   "source": [
    "df1['month'] = df1.index\n",
    "df1.head()"
   ]
  },
  {
   "cell_type": "code",
   "execution_count": 15,
   "id": "09788609",
   "metadata": {},
   "outputs": [
    {
     "data": {
      "text/plain": [
       "<Axes: title={'center': 'Figure 1. Trend of total demand based on bike type'}, xlabel='month'>"
      ]
     },
     "execution_count": 15,
     "metadata": {},
     "output_type": "execute_result"
    },
    {
     "data": {
      "image/png": "[encoded data removed]",
      "text/plain": [
       "<Figure size 700x500 with 1 Axes>"
      ]
     },
     "metadata": {},
     "output_type": "display_data"
    }
   ],
   "source": [
    "df1[['electric', 'classic', 'month']].groupby('month').sum().plot(figsize=(7,5),\n",
    "    title='Figure 1. Trend of total demand based on bike type', color=['0.4', '0.7'])"
   ]
  },
  {
   "cell_type": "code",
   "execution_count": 16,
   "id": "e4f0c4a0",
   "metadata": {},
   "outputs": [
    {
     "data": {
      "text/html": [
       "<div>\n",
       "<style scoped>\n",
       "    .dataframe tbody tr th:only-of-type {\n",
       "        vertical-align: middle;\n",
       "    }\n",
       "\n",
       "    .dataframe tbody tr th {\n",
       "        vertical-align: top;\n",
       "    }\n",
       "\n",
       "    .dataframe thead th {\n",
       "        text-align: right;\n",
       "    }\n",
       "</style>\n",
       "<table border=\"1\" class=\"dataframe\">\n",
       "  <thead>\n",
       "    <tr style=\"text-align: right;\">\n",
       "      <th></th>\n",
       "      <th>electric</th>\n",
       "      <th>classic</th>\n",
       "      <th>total</th>\n",
       "      <th>month</th>\n",
       "    </tr>\n",
       "  </thead>\n",
       "  <tbody>\n",
       "    <tr>\n",
       "      <th>2023-05-01</th>\n",
       "      <td>150153</td>\n",
       "      <td>68543</td>\n",
       "      <td>218696</td>\n",
       "      <td>2023-05-01</td>\n",
       "    </tr>\n",
       "    <tr>\n",
       "      <th>2023-06-01</th>\n",
       "      <td>158709</td>\n",
       "      <td>68038</td>\n",
       "      <td>226747</td>\n",
       "      <td>2023-06-01</td>\n",
       "    </tr>\n",
       "    <tr>\n",
       "      <th>2023-07-01</th>\n",
       "      <td>165132</td>\n",
       "      <td>69351</td>\n",
       "      <td>234483</td>\n",
       "      <td>2023-07-01</td>\n",
       "    </tr>\n",
       "    <tr>\n",
       "      <th>2023-08-01</th>\n",
       "      <td>183192</td>\n",
       "      <td>77534</td>\n",
       "      <td>260726</td>\n",
       "      <td>2023-08-01</td>\n",
       "    </tr>\n",
       "    <tr>\n",
       "      <th>2023-09-01</th>\n",
       "      <td>178254</td>\n",
       "      <td>73931</td>\n",
       "      <td>252185</td>\n",
       "      <td>2023-09-01</td>\n",
       "    </tr>\n",
       "    <tr>\n",
       "      <th>2023-10-01</th>\n",
       "      <td>194719</td>\n",
       "      <td>76959</td>\n",
       "      <td>271678</td>\n",
       "      <td>2023-10-01</td>\n",
       "    </tr>\n",
       "    <tr>\n",
       "      <th>2023-11-01</th>\n",
       "      <td>129942</td>\n",
       "      <td>91940</td>\n",
       "      <td>221882</td>\n",
       "      <td>2023-11-01</td>\n",
       "    </tr>\n",
       "    <tr>\n",
       "      <th>2023-12-01</th>\n",
       "      <td>79564</td>\n",
       "      <td>94338</td>\n",
       "      <td>173902</td>\n",
       "      <td>2023-12-01</td>\n",
       "    </tr>\n",
       "  </tbody>\n",
       "</table>\n",
       "</div>"
      ],
      "text/plain": [
       "            electric  classic   total      month\n",
       "2023-05-01    150153    68543  218696 2023-05-01\n",
       "2023-06-01    158709    68038  226747 2023-06-01\n",
       "2023-07-01    165132    69351  234483 2023-07-01\n",
       "2023-08-01    183192    77534  260726 2023-08-01\n",
       "2023-09-01    178254    73931  252185 2023-09-01\n",
       "2023-10-01    194719    76959  271678 2023-10-01\n",
       "2023-11-01    129942    91940  221882 2023-11-01\n",
       "2023-12-01     79564    94338  173902 2023-12-01"
      ]
     },
     "execution_count": 16,
     "metadata": {},
     "output_type": "execute_result"
    }
   ],
   "source": [
    "df1.tail(8)"
   ]
  },
  {
   "cell_type": "markdown",
   "id": "876c3ad4",
   "metadata": {},
   "source": [
    "As we can see, the trend of both electric and classic bikes are the same, with both reaching their own respective peaks and lows depending on the seasonality. However, in the end 2023, there is a significant dip for the electric bike demand compared to the classic bike demand, which continued to record increase in demand unlike electric, which started to record decrease since November 2023.\n",
    "\n",
    "Data in the first quarter of 2024 can greatly help see whether it is just an anomaly if the trend goes back to the trend that was seen in previous years."
   ]
  },
  {
   "cell_type": "markdown",
   "id": "f961617f",
   "metadata": {},
   "source": [
    "Let us go further than the initial question by looking at other statistics. Looking only at the trend does not show us the change in share between the two products in percentage. Let us see how the percentage has changed over the year."
   ]
  },
  {
   "cell_type": "code",
   "execution_count": 37,
   "id": "741b7150",
   "metadata": {},
   "outputs": [
    {
     "name": "stdout",
     "output_type": "stream",
     "text": [
      "      electric_percentage  classic_percentage\n",
      "year                                         \n",
      "2021            69.264398           30.735602\n",
      "2022            65.166081           34.833919\n",
      "2023            66.056131           33.943869\n"
     ]
    }
   ],
   "source": [
    "# Extract the year\n",
    "df1['year'] = df1['month'].dt.year\n",
    "\n",
    "# Group by year and bike type and sum\n",
    "yearly_bike_type = df1.groupby('year')[['electric', 'classic']].sum()\n",
    "\n",
    "# Calculate the total rides per year\n",
    "yearly_bike_type['total'] = yearly_bike_type['electric'] + yearly_bike_type['classic']\n",
    "\n",
    "# Calculate the percentage share\n",
    "yearly_bike_type['electric_percentage'] = (yearly_bike_type['electric'] / yearly_bike_type['total']) * 100\n",
    "yearly_bike_type['classic_percentage'] = (yearly_bike_type['classic'] / yearly_bike_type['total']) * 100\n",
    "\n",
    "# Display the result\n",
    "print(yearly_bike_type[['electric_percentage', 'classic_percentage']])"
   ]
  },
  {
   "cell_type": "markdown",
   "id": "db99719c",
   "metadata": {},
   "source": [
    "In terms of share, we can conclude that classic has increased in share between the two. However, this can lead us into believing that the total demand for electric is sinking, and it is being taken over by classic. Therefore, we should calculate the CAGR (compounded annual growth rate) to see the growth of each product individually."
   ]
  },
  {
   "cell_type": "code",
   "execution_count": 39,
   "id": "3c2f5492",
   "metadata": {},
   "outputs": [
    {
     "name": "stdout",
     "output_type": "stream",
     "text": [
      "The Compound Annual Growth Rate (CAGR) for electric rides from 2021 to 2023 is: 10.14%\n",
      "The Compound Annual Growth Rate (CAGR) for classic rides from 2021 to 2023 is: 18.53%\n"
     ]
    }
   ],
   "source": [
    "# Assuming 'yearly_bike_type' DataFrame is already created and contains 'electric' and 'classic' rides per year\n",
    "\n",
    "# Get the first and last year in your data\n",
    "first_year = yearly_bike_type.index.min()\n",
    "last_year = yearly_bike_type.index.max()\n",
    "\n",
    "# Get the ride counts for the first and last full year for electric and classic\n",
    "beginning_electric = yearly_bike_type.loc[first_year, 'electric']\n",
    "ending_electric = yearly_bike_type.loc[last_year, 'electric']\n",
    "\n",
    "beginning_classic = yearly_bike_type.loc[first_year, 'classic']\n",
    "ending_classic = yearly_bike_type.loc[last_year, 'classic']\n",
    "\n",
    "# Determine the number of years\n",
    "number_of_years = last_year - first_year\n",
    "\n",
    "# Calculate CAGR for electric bikes\n",
    "cagr_electric = (ending_electric / beginning_electric)**(1 / number_of_years) - 1\n",
    "\n",
    "# Calculate CAGR for classic bikes\n",
    "cagr_classic = (ending_classic / beginning_classic)**(1 / number_of_years) - 1\n",
    "\n",
    "print(f\"The Compound Annual Growth Rate (CAGR) for electric rides from {first_year} to {last_year} is: {cagr_electric:.2%}\")\n",
    "print(f\"The Compound Annual Growth Rate (CAGR) for classic rides from {first_year} to {last_year} is: {cagr_classic:.2%}\")"
   ]
  },
  {
   "cell_type": "markdown",
   "id": "1dc244ce",
   "metadata": {},
   "source": [
    "By calculating the CAGR, we now know that both products are growing in demand. However, since classic had lower starting point, it is generally easier for products with lower amount of demand in the beginning to get a higher growth."
   ]
  },
  {
   "cell_type": "markdown",
   "id": "74e5a6f3",
   "metadata": {},
   "source": [
    "### Question 2 - Dockless Sharing Trend Analysis"
   ]
  },
  {
   "cell_type": "code",
   "execution_count": 17,
   "id": "55a0bbc9",
   "metadata": {},
   "outputs": [
    {
     "data": {
      "text/html": [
       "<div>\n",
       "<style scoped>\n",
       "    .dataframe tbody tr th:only-of-type {\n",
       "        vertical-align: middle;\n",
       "    }\n",
       "\n",
       "    .dataframe tbody tr th {\n",
       "        vertical-align: top;\n",
       "    }\n",
       "\n",
       "    .dataframe thead th {\n",
       "        text-align: right;\n",
       "    }\n",
       "</style>\n",
       "<table border=\"1\" class=\"dataframe\">\n",
       "  <thead>\n",
       "    <tr style=\"text-align: right;\">\n",
       "      <th></th>\n",
       "      <th>user_type</th>\n",
       "      <th>bike_type</th>\n",
       "      <th>start_time</th>\n",
       "      <th>start_station_id</th>\n",
       "      <th>end_time</th>\n",
       "      <th>end_station_id</th>\n",
       "      <th>month</th>\n",
       "      <th>electric</th>\n",
       "      <th>classic</th>\n",
       "      <th>dockless</th>\n",
       "      <th>reg_electric</th>\n",
       "    </tr>\n",
       "  </thead>\n",
       "  <tbody>\n",
       "    <tr>\n",
       "      <th>0</th>\n",
       "      <td>casual</td>\n",
       "      <td>electric</td>\n",
       "      <td>2021-01-01 00:01:01</td>\n",
       "      <td>NaN</td>\n",
       "      <td>2021-01-01 00:31:31</td>\n",
       "      <td>NaN</td>\n",
       "      <td>2021-01-01</td>\n",
       "      <td>True</td>\n",
       "      <td>False</td>\n",
       "      <td>True</td>\n",
       "      <td>False</td>\n",
       "    </tr>\n",
       "    <tr>\n",
       "      <th>1</th>\n",
       "      <td>member</td>\n",
       "      <td>classic</td>\n",
       "      <td>2021-01-01 00:01:11</td>\n",
       "      <td>SF-I24</td>\n",
       "      <td>2021-01-01 00:21:46</td>\n",
       "      <td>SF-L29</td>\n",
       "      <td>2021-01-01</td>\n",
       "      <td>False</td>\n",
       "      <td>True</td>\n",
       "      <td>False</td>\n",
       "      <td>False</td>\n",
       "    </tr>\n",
       "    <tr>\n",
       "      <th>2</th>\n",
       "      <td>member</td>\n",
       "      <td>electric</td>\n",
       "      <td>2021-01-01 00:01:44</td>\n",
       "      <td>NaN</td>\n",
       "      <td>2021-01-01 01:01:05</td>\n",
       "      <td>NaN</td>\n",
       "      <td>2021-01-01</td>\n",
       "      <td>True</td>\n",
       "      <td>False</td>\n",
       "      <td>True</td>\n",
       "      <td>False</td>\n",
       "    </tr>\n",
       "    <tr>\n",
       "      <th>3</th>\n",
       "      <td>casual</td>\n",
       "      <td>electric</td>\n",
       "      <td>2021-01-01 00:03:44</td>\n",
       "      <td>SF-G30-1</td>\n",
       "      <td>2021-01-01 00:44:51</td>\n",
       "      <td>NaN</td>\n",
       "      <td>2021-01-01</td>\n",
       "      <td>True</td>\n",
       "      <td>False</td>\n",
       "      <td>True</td>\n",
       "      <td>False</td>\n",
       "    </tr>\n",
       "    <tr>\n",
       "      <th>4</th>\n",
       "      <td>casual</td>\n",
       "      <td>electric</td>\n",
       "      <td>2021-01-01 00:05:33</td>\n",
       "      <td>NaN</td>\n",
       "      <td>2021-01-01 00:22:02</td>\n",
       "      <td>NaN</td>\n",
       "      <td>2021-01-01</td>\n",
       "      <td>True</td>\n",
       "      <td>False</td>\n",
       "      <td>True</td>\n",
       "      <td>False</td>\n",
       "    </tr>\n",
       "  </tbody>\n",
       "</table>\n",
       "</div>"
      ],
      "text/plain": [
       "  user_type bike_type           start_time start_station_id  \\\n",
       "0    casual  electric  2021-01-01 00:01:01              NaN   \n",
       "1    member   classic  2021-01-01 00:01:11           SF-I24   \n",
       "2    member  electric  2021-01-01 00:01:44              NaN   \n",
       "3    casual  electric  2021-01-01 00:03:44         SF-G30-1   \n",
       "4    casual  electric  2021-01-01 00:05:33              NaN   \n",
       "\n",
       "              end_time end_station_id      month  electric  classic  dockless  \\\n",
       "0  2021-01-01 00:31:31            NaN 2021-01-01      True    False      True   \n",
       "1  2021-01-01 00:21:46         SF-L29 2021-01-01     False     True     False   \n",
       "2  2021-01-01 01:01:05            NaN 2021-01-01      True    False      True   \n",
       "3  2021-01-01 00:44:51            NaN 2021-01-01      True    False      True   \n",
       "4  2021-01-01 00:22:02            NaN 2021-01-01      True    False      True   \n",
       "\n",
       "   reg_electric  \n",
       "0         False  \n",
       "1         False  \n",
       "2         False  \n",
       "3         False  \n",
       "4         False  "
      ]
     },
     "execution_count": 17,
     "metadata": {},
     "output_type": "execute_result"
    }
   ],
   "source": [
    "rides['dockless'] = rides['start_station_id'].isnull() | rides['end_station_id'].isnull()\n",
    "rides['reg_electric'] = (rides['electric'] & ((rides['start_station_id'].isnull() | rides['end_station_id'].isnull()) == False))\n",
    "rides.head()"
   ]
  },
  {
   "cell_type": "code",
   "execution_count": 18,
   "id": "662eb235",
   "metadata": {},
   "outputs": [
    {
     "data": {
      "text/html": [
       "<div>\n",
       "<style scoped>\n",
       "    .dataframe tbody tr th:only-of-type {\n",
       "        vertical-align: middle;\n",
       "    }\n",
       "\n",
       "    .dataframe tbody tr th {\n",
       "        vertical-align: top;\n",
       "    }\n",
       "\n",
       "    .dataframe thead th {\n",
       "        text-align: right;\n",
       "    }\n",
       "</style>\n",
       "<table border=\"1\" class=\"dataframe\">\n",
       "  <thead>\n",
       "    <tr style=\"text-align: right;\">\n",
       "      <th></th>\n",
       "      <th>classic</th>\n",
       "      <th>electric</th>\n",
       "      <th>dockless</th>\n",
       "      <th>reg_electric</th>\n",
       "    </tr>\n",
       "    <tr>\n",
       "      <th>month</th>\n",
       "      <th></th>\n",
       "      <th></th>\n",
       "      <th></th>\n",
       "      <th></th>\n",
       "    </tr>\n",
       "  </thead>\n",
       "  <tbody>\n",
       "    <tr>\n",
       "      <th>2021-01-01</th>\n",
       "      <td>31110</td>\n",
       "      <td>70182</td>\n",
       "      <td>37887</td>\n",
       "      <td>32295</td>\n",
       "    </tr>\n",
       "    <tr>\n",
       "      <th>2021-02-01</th>\n",
       "      <td>31484</td>\n",
       "      <td>78352</td>\n",
       "      <td>41318</td>\n",
       "      <td>37034</td>\n",
       "    </tr>\n",
       "    <tr>\n",
       "      <th>2021-03-01</th>\n",
       "      <td>37311</td>\n",
       "      <td>93265</td>\n",
       "      <td>48919</td>\n",
       "      <td>44346</td>\n",
       "    </tr>\n",
       "    <tr>\n",
       "      <th>2021-04-01</th>\n",
       "      <td>40732</td>\n",
       "      <td>103932</td>\n",
       "      <td>52139</td>\n",
       "      <td>51793</td>\n",
       "    </tr>\n",
       "    <tr>\n",
       "      <th>2021-05-01</th>\n",
       "      <td>47393</td>\n",
       "      <td>120487</td>\n",
       "      <td>60061</td>\n",
       "      <td>60426</td>\n",
       "    </tr>\n",
       "  </tbody>\n",
       "</table>\n",
       "</div>"
      ],
      "text/plain": [
       "            classic  electric  dockless  reg_electric\n",
       "month                                                \n",
       "2021-01-01    31110     70182     37887         32295\n",
       "2021-02-01    31484     78352     41318         37034\n",
       "2021-03-01    37311     93265     48919         44346\n",
       "2021-04-01    40732    103932     52139         51793\n",
       "2021-05-01    47393    120487     60061         60426"
      ]
     },
     "execution_count": 18,
     "metadata": {},
     "output_type": "execute_result"
    }
   ],
   "source": [
    "df2 = rides[['month', 'classic', 'electric', 'dockless', 'reg_electric']].groupby(by='month').sum()\n",
    "df2.head()"
   ]
  },
  {
   "cell_type": "markdown",
   "id": "67c7ecbb",
   "metadata": {},
   "source": [
    "We evaluate the truthfulness that only electrics can be dockless, and we get the difference between all electric and dockless electric"
   ]
  },
  {
   "cell_type": "code",
   "execution_count": 19,
   "id": "41813137",
   "metadata": {},
   "outputs": [
    {
     "name": "stdout",
     "output_type": "stream",
     "text": [
      "Electric Total          :    4772748\n",
      "Dockless Electric Total :    1932869\n",
      "Docking Electric Total  :    2839879\n",
      "Classic Total           :    2389644\n",
      "Dockless Classic Total  :          0\n"
     ]
    }
   ],
   "source": [
    "electric = rides['electric'].sum()\n",
    "dockless_electric = (rides['dockless'] & rides['electric']).sum()\n",
    "docking_electric = (rides['electric'] & (rides['dockless'] == False)).sum()\n",
    "classic = rides['classic'].sum()\n",
    "dockless_classic = (rides['dockless'] & rides['classic']).sum()\n",
    "\n",
    "print(\"Electric Total          : %10d\" % electric)\n",
    "print(\"Dockless Electric Total : %10d\" % dockless_electric)\n",
    "print(\"Docking Electric Total  : %10d\" % docking_electric)\n",
    "print(\"Classic Total           : %10d\" % classic)\n",
    "print(\"Dockless Classic Total  : %10d\" % dockless_classic)"
   ]
  },
  {
   "cell_type": "markdown",
   "id": "a2844918",
   "metadata": {},
   "source": [
    "We have proved that only electrics can be dockless"
   ]
  },
  {
   "cell_type": "code",
   "execution_count": 20,
   "id": "df3354d7",
   "metadata": {},
   "outputs": [],
   "source": [
    "df2.index.name = None"
   ]
  },
  {
   "cell_type": "code",
   "execution_count": 21,
   "id": "6a25bd09",
   "metadata": {},
   "outputs": [
    {
     "data": {
      "text/html": [
       "<div>\n",
       "<style scoped>\n",
       "    .dataframe tbody tr th:only-of-type {\n",
       "        vertical-align: middle;\n",
       "    }\n",
       "\n",
       "    .dataframe tbody tr th {\n",
       "        vertical-align: top;\n",
       "    }\n",
       "\n",
       "    .dataframe thead th {\n",
       "        text-align: right;\n",
       "    }\n",
       "</style>\n",
       "<table border=\"1\" class=\"dataframe\">\n",
       "  <thead>\n",
       "    <tr style=\"text-align: right;\">\n",
       "      <th></th>\n",
       "      <th>classic</th>\n",
       "      <th>electric</th>\n",
       "      <th>dockless</th>\n",
       "      <th>reg_electric</th>\n",
       "      <th>month</th>\n",
       "    </tr>\n",
       "  </thead>\n",
       "  <tbody>\n",
       "    <tr>\n",
       "      <th>2021-01-01</th>\n",
       "      <td>31110</td>\n",
       "      <td>70182</td>\n",
       "      <td>37887</td>\n",
       "      <td>32295</td>\n",
       "      <td>2021-01-01</td>\n",
       "    </tr>\n",
       "    <tr>\n",
       "      <th>2021-02-01</th>\n",
       "      <td>31484</td>\n",
       "      <td>78352</td>\n",
       "      <td>41318</td>\n",
       "      <td>37034</td>\n",
       "      <td>2021-02-01</td>\n",
       "    </tr>\n",
       "    <tr>\n",
       "      <th>2021-03-01</th>\n",
       "      <td>37311</td>\n",
       "      <td>93265</td>\n",
       "      <td>48919</td>\n",
       "      <td>44346</td>\n",
       "      <td>2021-03-01</td>\n",
       "    </tr>\n",
       "    <tr>\n",
       "      <th>2021-04-01</th>\n",
       "      <td>40732</td>\n",
       "      <td>103932</td>\n",
       "      <td>52139</td>\n",
       "      <td>51793</td>\n",
       "      <td>2021-04-01</td>\n",
       "    </tr>\n",
       "    <tr>\n",
       "      <th>2021-05-01</th>\n",
       "      <td>47393</td>\n",
       "      <td>120487</td>\n",
       "      <td>60061</td>\n",
       "      <td>60426</td>\n",
       "      <td>2021-05-01</td>\n",
       "    </tr>\n",
       "  </tbody>\n",
       "</table>\n",
       "</div>"
      ],
      "text/plain": [
       "            classic  electric  dockless  reg_electric      month\n",
       "2021-01-01    31110     70182     37887         32295 2021-01-01\n",
       "2021-02-01    31484     78352     41318         37034 2021-02-01\n",
       "2021-03-01    37311     93265     48919         44346 2021-03-01\n",
       "2021-04-01    40732    103932     52139         51793 2021-04-01\n",
       "2021-05-01    47393    120487     60061         60426 2021-05-01"
      ]
     },
     "execution_count": 21,
     "metadata": {},
     "output_type": "execute_result"
    }
   ],
   "source": [
    "df2['month'] = df2.index\n",
    "df2.head()"
   ]
  },
  {
   "cell_type": "code",
   "execution_count": 22,
   "id": "6098878e",
   "metadata": {},
   "outputs": [
    {
     "data": {
      "text/plain": [
       "<Axes: title={'center': 'Figure 2. Trend of total demand compared to dockless'}, xlabel='month'>"
      ]
     },
     "execution_count": 22,
     "metadata": {},
     "output_type": "execute_result"
    },
    {
     "data": {
      "image/png": "[encoded data removed]",
      "text/plain": [
       "<Figure size 700x500 with 1 Axes>"
      ]
     },
     "metadata": {},
     "output_type": "display_data"
    }
   ],
   "source": [
    "df2[['electric', 'dockless', 'reg_electric', 'month']].groupby('month').sum().plot(figsize=(7,5),\n",
    "    title='Figure 2. Trend of total demand compared to dockless', color=['0.25', '0.5', '0.75'])"
   ]
  },
  {
   "cell_type": "markdown",
   "id": "a9fd39ba",
   "metadata": {},
   "source": [
    "As seen on the trend above, the trend of dockless electric bikes closely follow the change in trend of all electric bikes. However, dockless electric rides are initially more popular than docking electric rides, from January to April 2021. After that point, dockless electric rides have been less popular than docking electric rides.\n",
    "\n",
    "The trend started to take shape starting in January 2022, and since January 2023, the trend for all electric rides, which consists of docking and dockless are almost the exact same. Both also follow the trend for electric ride as a whole. This means that probably, after the initial launch of dockless rides, each segment has its own users."
   ]
  },
  {
   "cell_type": "markdown",
   "id": "754531c7",
   "metadata": {},
   "source": [
    "### Question 3 - Comparison of Starting and Ending Stations"
   ]
  },
  {
   "cell_type": "markdown",
   "id": "f32eedca",
   "metadata": {},
   "source": [
    "We first have to create a new dataframe which consists of the station IDs and the counts of both start and end"
   ]
  },
  {
   "cell_type": "code",
   "execution_count": 23,
   "id": "f74c3f69",
   "metadata": {},
   "outputs": [],
   "source": [
    "station_counts = (\n",
    "    pd.concat(\n",
    "        [rides['start_station_id'].value_counts(dropna=False),\n",
    "         rides['end_station_id'].value_counts(dropna=False)],\n",
    "         axis=1,\n",
    "         keys=['start_count', 'end_count']\n",
    "    )\n",
    "    .fillna(0)\n",
    "    .astype(int)\n",
    "    .rename_axis('station_id')\n",
    "    .reset_index()\n",
    ")"
   ]
  },
  {
   "cell_type": "markdown",
   "id": "c497708c",
   "metadata": {},
   "source": [
    "The NaN value, however, is not a string, and therefore will not be searchable. Hence, we convert it into a string"
   ]
  },
  {
   "cell_type": "code",
   "execution_count": 24,
   "id": "3267e1aa",
   "metadata": {},
   "outputs": [
    {
     "data": {
      "text/html": [
       "<div>\n",
       "<style scoped>\n",
       "    .dataframe tbody tr th:only-of-type {\n",
       "        vertical-align: middle;\n",
       "    }\n",
       "\n",
       "    .dataframe tbody tr th {\n",
       "        vertical-align: top;\n",
       "    }\n",
       "\n",
       "    .dataframe thead th {\n",
       "        text-align: right;\n",
       "    }\n",
       "</style>\n",
       "<table border=\"1\" class=\"dataframe\">\n",
       "  <thead>\n",
       "    <tr style=\"text-align: right;\">\n",
       "      <th></th>\n",
       "      <th>station_id</th>\n",
       "      <th>start_count</th>\n",
       "      <th>end_count</th>\n",
       "    </tr>\n",
       "  </thead>\n",
       "  <tbody>\n",
       "    <tr>\n",
       "      <th>0</th>\n",
       "      <td>NaN</td>\n",
       "      <td>1180834</td>\n",
       "      <td>1328264</td>\n",
       "    </tr>\n",
       "    <tr>\n",
       "      <th>1</th>\n",
       "      <td>SF-J23-1</td>\n",
       "      <td>79918</td>\n",
       "      <td>79146</td>\n",
       "    </tr>\n",
       "    <tr>\n",
       "      <th>2</th>\n",
       "      <td>SF-E29-2</td>\n",
       "      <td>74548</td>\n",
       "      <td>77905</td>\n",
       "    </tr>\n",
       "    <tr>\n",
       "      <th>3</th>\n",
       "      <td>SF-G27</td>\n",
       "      <td>68196</td>\n",
       "      <td>71552</td>\n",
       "    </tr>\n",
       "    <tr>\n",
       "      <th>4</th>\n",
       "      <td>SF-H26</td>\n",
       "      <td>55822</td>\n",
       "      <td>57764</td>\n",
       "    </tr>\n",
       "  </tbody>\n",
       "</table>\n",
       "</div>"
      ],
      "text/plain": [
       "  station_id  start_count  end_count\n",
       "0        NaN      1180834    1328264\n",
       "1   SF-J23-1        79918      79146\n",
       "2   SF-E29-2        74548      77905\n",
       "3     SF-G27        68196      71552\n",
       "4     SF-H26        55822      57764"
      ]
     },
     "execution_count": 24,
     "metadata": {},
     "output_type": "execute_result"
    }
   ],
   "source": [
    "station_counts['station_id'] = (\n",
    "    station_counts['station_id']\n",
    "    .fillna('NaN')\n",
    ")\n",
    "\n",
    "station_counts.head()"
   ]
  },
  {
   "cell_type": "markdown",
   "id": "fd3c7dbf",
   "metadata": {},
   "source": [
    "The top 10 starting station IDs"
   ]
  },
  {
   "cell_type": "code",
   "execution_count": 25,
   "id": "397f2e60",
   "metadata": {},
   "outputs": [
    {
     "data": {
      "text/html": [
       "<div>\n",
       "<style scoped>\n",
       "    .dataframe tbody tr th:only-of-type {\n",
       "        vertical-align: middle;\n",
       "    }\n",
       "\n",
       "    .dataframe tbody tr th {\n",
       "        vertical-align: top;\n",
       "    }\n",
       "\n",
       "    .dataframe thead th {\n",
       "        text-align: right;\n",
       "    }\n",
       "</style>\n",
       "<table border=\"1\" class=\"dataframe\">\n",
       "  <thead>\n",
       "    <tr style=\"text-align: right;\">\n",
       "      <th></th>\n",
       "      <th>station_id</th>\n",
       "      <th>start_count</th>\n",
       "    </tr>\n",
       "  </thead>\n",
       "  <tbody>\n",
       "    <tr>\n",
       "      <th>0</th>\n",
       "      <td>NaN</td>\n",
       "      <td>1180834</td>\n",
       "    </tr>\n",
       "    <tr>\n",
       "      <th>1</th>\n",
       "      <td>SF-J23-1</td>\n",
       "      <td>79918</td>\n",
       "    </tr>\n",
       "    <tr>\n",
       "      <th>2</th>\n",
       "      <td>SF-E29-2</td>\n",
       "      <td>74548</td>\n",
       "    </tr>\n",
       "    <tr>\n",
       "      <th>3</th>\n",
       "      <td>SF-G27</td>\n",
       "      <td>68196</td>\n",
       "    </tr>\n",
       "    <tr>\n",
       "      <th>4</th>\n",
       "      <td>SF-H26</td>\n",
       "      <td>55822</td>\n",
       "    </tr>\n",
       "    <tr>\n",
       "      <th>5</th>\n",
       "      <td>SF-J29</td>\n",
       "      <td>53284</td>\n",
       "    </tr>\n",
       "    <tr>\n",
       "      <th>6</th>\n",
       "      <td>SF-F28-2</td>\n",
       "      <td>48403</td>\n",
       "    </tr>\n",
       "    <tr>\n",
       "      <th>7</th>\n",
       "      <td>SF-N22-2</td>\n",
       "      <td>47426</td>\n",
       "    </tr>\n",
       "    <tr>\n",
       "      <th>8</th>\n",
       "      <td>SF-E29-1</td>\n",
       "      <td>46027</td>\n",
       "    </tr>\n",
       "    <tr>\n",
       "      <th>9</th>\n",
       "      <td>SF-K29-1</td>\n",
       "      <td>45249</td>\n",
       "    </tr>\n",
       "    <tr>\n",
       "      <th>10</th>\n",
       "      <td>SF-M20</td>\n",
       "      <td>43872</td>\n",
       "    </tr>\n",
       "  </tbody>\n",
       "</table>\n",
       "</div>"
      ],
      "text/plain": [
       "   station_id  start_count\n",
       "0         NaN      1180834\n",
       "1    SF-J23-1        79918\n",
       "2    SF-E29-2        74548\n",
       "3      SF-G27        68196\n",
       "4      SF-H26        55822\n",
       "5      SF-J29        53284\n",
       "6    SF-F28-2        48403\n",
       "7    SF-N22-2        47426\n",
       "8    SF-E29-1        46027\n",
       "9    SF-K29-1        45249\n",
       "10     SF-M20        43872"
      ]
     },
     "execution_count": 25,
     "metadata": {},
     "output_type": "execute_result"
    }
   ],
   "source": [
    "starting = station_counts[['station_id', 'start_count']].sort_values('start_count', ascending=False).head(11)\n",
    "starting"
   ]
  },
  {
   "cell_type": "markdown",
   "id": "1c416c2a",
   "metadata": {},
   "source": [
    "The top 10 starting station IDs"
   ]
  },
  {
   "cell_type": "code",
   "execution_count": 26,
   "id": "4efdf677",
   "metadata": {},
   "outputs": [
    {
     "data": {
      "text/html": [
       "<div>\n",
       "<style scoped>\n",
       "    .dataframe tbody tr th:only-of-type {\n",
       "        vertical-align: middle;\n",
       "    }\n",
       "\n",
       "    .dataframe tbody tr th {\n",
       "        vertical-align: top;\n",
       "    }\n",
       "\n",
       "    .dataframe thead th {\n",
       "        text-align: right;\n",
       "    }\n",
       "</style>\n",
       "<table border=\"1\" class=\"dataframe\">\n",
       "  <thead>\n",
       "    <tr style=\"text-align: right;\">\n",
       "      <th></th>\n",
       "      <th>station_id</th>\n",
       "      <th>end_count</th>\n",
       "    </tr>\n",
       "  </thead>\n",
       "  <tbody>\n",
       "    <tr>\n",
       "      <th>0</th>\n",
       "      <td>NaN</td>\n",
       "      <td>1328264</td>\n",
       "    </tr>\n",
       "    <tr>\n",
       "      <th>1</th>\n",
       "      <td>SF-J23-1</td>\n",
       "      <td>79146</td>\n",
       "    </tr>\n",
       "    <tr>\n",
       "      <th>2</th>\n",
       "      <td>SF-E29-2</td>\n",
       "      <td>77905</td>\n",
       "    </tr>\n",
       "    <tr>\n",
       "      <th>3</th>\n",
       "      <td>SF-G27</td>\n",
       "      <td>71552</td>\n",
       "    </tr>\n",
       "    <tr>\n",
       "      <th>4</th>\n",
       "      <td>SF-H26</td>\n",
       "      <td>57764</td>\n",
       "    </tr>\n",
       "    <tr>\n",
       "      <th>5</th>\n",
       "      <td>SF-J29</td>\n",
       "      <td>55909</td>\n",
       "    </tr>\n",
       "    <tr>\n",
       "      <th>6</th>\n",
       "      <td>SF-F28-2</td>\n",
       "      <td>51871</td>\n",
       "    </tr>\n",
       "    <tr>\n",
       "      <th>7</th>\n",
       "      <td>SF-N22-2</td>\n",
       "      <td>50859</td>\n",
       "    </tr>\n",
       "    <tr>\n",
       "      <th>8</th>\n",
       "      <td>SF-E29-1</td>\n",
       "      <td>49124</td>\n",
       "    </tr>\n",
       "    <tr>\n",
       "      <th>9</th>\n",
       "      <td>SF-K29-1</td>\n",
       "      <td>46815</td>\n",
       "    </tr>\n",
       "    <tr>\n",
       "      <th>12</th>\n",
       "      <td>SF-O22</td>\n",
       "      <td>46109</td>\n",
       "    </tr>\n",
       "  </tbody>\n",
       "</table>\n",
       "</div>"
      ],
      "text/plain": [
       "   station_id  end_count\n",
       "0         NaN    1328264\n",
       "1    SF-J23-1      79146\n",
       "2    SF-E29-2      77905\n",
       "3      SF-G27      71552\n",
       "4      SF-H26      57764\n",
       "5      SF-J29      55909\n",
       "6    SF-F28-2      51871\n",
       "7    SF-N22-2      50859\n",
       "8    SF-E29-1      49124\n",
       "9    SF-K29-1      46815\n",
       "12     SF-O22      46109"
      ]
     },
     "execution_count": 26,
     "metadata": {},
     "output_type": "execute_result"
    }
   ],
   "source": [
    "ending = station_counts[['station_id', 'end_count']].sort_values('end_count', ascending=False).head(11)\n",
    "ending"
   ]
  },
  {
   "cell_type": "code",
   "execution_count": 27,
   "id": "20ca62a2",
   "metadata": {},
   "outputs": [
    {
     "name": "stdout",
     "output_type": "stream",
     "text": [
      "Starting and ending stations at number 11 are different\n",
      "Start ID = SF-M20 End ID = SF-O22\n"
     ]
    }
   ],
   "source": [
    "def find_different_count(station_data):\n",
    "    index = 0\n",
    "    while(index < len(station_data)):\n",
    "        start = starting.iloc[index]['station_id']\n",
    "        end = ending.iloc[index]['station_id']\n",
    "\n",
    "        if start != end:\n",
    "            print(\"Starting and ending stations at number\", index+1, \"are different\")\n",
    "            print(\"Start ID =\", start, \"End ID =\", end)\n",
    "            break\n",
    "\n",
    "        index+=1\n",
    "\n",
    "\n",
    "find_different_count(station_counts)"
   ]
  },
  {
   "cell_type": "markdown",
   "id": "127da3ea",
   "metadata": {},
   "source": [
    "The top 10 are the same if we consider the NaN (dockless) to be a station. Otherwise, the 11th most used station for both starting and ending are different"
   ]
  },
  {
   "cell_type": "markdown",
   "id": "5aa9300e",
   "metadata": {},
   "source": [
    "### Question 4 - Circular Ride Frequency"
   ]
  },
  {
   "cell_type": "code",
   "execution_count": 28,
   "id": "392232b9",
   "metadata": {},
   "outputs": [
    {
     "data": {
      "text/html": [
       "<div>\n",
       "<style scoped>\n",
       "    .dataframe tbody tr th:only-of-type {\n",
       "        vertical-align: middle;\n",
       "    }\n",
       "\n",
       "    .dataframe tbody tr th {\n",
       "        vertical-align: top;\n",
       "    }\n",
       "\n",
       "    .dataframe thead th {\n",
       "        text-align: right;\n",
       "    }\n",
       "</style>\n",
       "<table border=\"1\" class=\"dataframe\">\n",
       "  <thead>\n",
       "    <tr style=\"text-align: right;\">\n",
       "      <th></th>\n",
       "      <th>user_type</th>\n",
       "      <th>bike_type</th>\n",
       "      <th>start_time</th>\n",
       "      <th>start_station_id</th>\n",
       "      <th>end_time</th>\n",
       "      <th>end_station_id</th>\n",
       "      <th>month</th>\n",
       "      <th>electric</th>\n",
       "      <th>classic</th>\n",
       "      <th>dockless</th>\n",
       "      <th>reg_electric</th>\n",
       "      <th>circular</th>\n",
       "    </tr>\n",
       "  </thead>\n",
       "  <tbody>\n",
       "    <tr>\n",
       "      <th>0</th>\n",
       "      <td>casual</td>\n",
       "      <td>electric</td>\n",
       "      <td>2021-01-01 00:01:01</td>\n",
       "      <td>NaN</td>\n",
       "      <td>2021-01-01 00:31:31</td>\n",
       "      <td>NaN</td>\n",
       "      <td>2021-01-01</td>\n",
       "      <td>True</td>\n",
       "      <td>False</td>\n",
       "      <td>True</td>\n",
       "      <td>False</td>\n",
       "      <td>False</td>\n",
       "    </tr>\n",
       "    <tr>\n",
       "      <th>1</th>\n",
       "      <td>member</td>\n",
       "      <td>classic</td>\n",
       "      <td>2021-01-01 00:01:11</td>\n",
       "      <td>SF-I24</td>\n",
       "      <td>2021-01-01 00:21:46</td>\n",
       "      <td>SF-L29</td>\n",
       "      <td>2021-01-01</td>\n",
       "      <td>False</td>\n",
       "      <td>True</td>\n",
       "      <td>False</td>\n",
       "      <td>False</td>\n",
       "      <td>False</td>\n",
       "    </tr>\n",
       "    <tr>\n",
       "      <th>2</th>\n",
       "      <td>member</td>\n",
       "      <td>electric</td>\n",
       "      <td>2021-01-01 00:01:44</td>\n",
       "      <td>NaN</td>\n",
       "      <td>2021-01-01 01:01:05</td>\n",
       "      <td>NaN</td>\n",
       "      <td>2021-01-01</td>\n",
       "      <td>True</td>\n",
       "      <td>False</td>\n",
       "      <td>True</td>\n",
       "      <td>False</td>\n",
       "      <td>False</td>\n",
       "    </tr>\n",
       "    <tr>\n",
       "      <th>3</th>\n",
       "      <td>casual</td>\n",
       "      <td>electric</td>\n",
       "      <td>2021-01-01 00:03:44</td>\n",
       "      <td>SF-G30-1</td>\n",
       "      <td>2021-01-01 00:44:51</td>\n",
       "      <td>NaN</td>\n",
       "      <td>2021-01-01</td>\n",
       "      <td>True</td>\n",
       "      <td>False</td>\n",
       "      <td>True</td>\n",
       "      <td>False</td>\n",
       "      <td>False</td>\n",
       "    </tr>\n",
       "    <tr>\n",
       "      <th>4</th>\n",
       "      <td>casual</td>\n",
       "      <td>electric</td>\n",
       "      <td>2021-01-01 00:05:33</td>\n",
       "      <td>NaN</td>\n",
       "      <td>2021-01-01 00:22:02</td>\n",
       "      <td>NaN</td>\n",
       "      <td>2021-01-01</td>\n",
       "      <td>True</td>\n",
       "      <td>False</td>\n",
       "      <td>True</td>\n",
       "      <td>False</td>\n",
       "      <td>False</td>\n",
       "    </tr>\n",
       "  </tbody>\n",
       "</table>\n",
       "</div>"
      ],
      "text/plain": [
       "  user_type bike_type           start_time start_station_id  \\\n",
       "0    casual  electric  2021-01-01 00:01:01              NaN   \n",
       "1    member   classic  2021-01-01 00:01:11           SF-I24   \n",
       "2    member  electric  2021-01-01 00:01:44              NaN   \n",
       "3    casual  electric  2021-01-01 00:03:44         SF-G30-1   \n",
       "4    casual  electric  2021-01-01 00:05:33              NaN   \n",
       "\n",
       "              end_time end_station_id      month  electric  classic  dockless  \\\n",
       "0  2021-01-01 00:31:31            NaN 2021-01-01      True    False      True   \n",
       "1  2021-01-01 00:21:46         SF-L29 2021-01-01     False     True     False   \n",
       "2  2021-01-01 01:01:05            NaN 2021-01-01      True    False      True   \n",
       "3  2021-01-01 00:44:51            NaN 2021-01-01      True    False      True   \n",
       "4  2021-01-01 00:22:02            NaN 2021-01-01      True    False      True   \n",
       "\n",
       "   reg_electric  circular  \n",
       "0         False     False  \n",
       "1         False     False  \n",
       "2         False     False  \n",
       "3         False     False  \n",
       "4         False     False  "
      ]
     },
     "execution_count": 28,
     "metadata": {},
     "output_type": "execute_result"
    }
   ],
   "source": [
    "df4 = rides\n",
    "df4['circular'] = (df4['start_station_id'] == df4['end_station_id'])\n",
    "df4.head(5)"
   ]
  },
  {
   "cell_type": "markdown",
   "id": "f9f4d48e",
   "metadata": {},
   "source": [
    "Because the 'circular' column is a boolean, we just sum them. Or we can also not sum them to see the difference between circular and non circular drives."
   ]
  },
  {
   "cell_type": "code",
   "execution_count": 29,
   "id": "c44f3377",
   "metadata": {},
   "outputs": [
    {
     "data": {
      "text/plain": [
       "circular\n",
       "False    6839276\n",
       "True      323116\n",
       "Name: count, dtype: int64"
      ]
     },
     "execution_count": 29,
     "metadata": {},
     "output_type": "execute_result"
    }
   ],
   "source": [
    "df4['circular'].value_counts()"
   ]
  },
  {
   "cell_type": "markdown",
   "id": "67ab72a8",
   "metadata": {},
   "source": [
    "### Question 5 - Very Low Activity Stations"
   ]
  },
  {
   "cell_type": "markdown",
   "id": "5906897b",
   "metadata": {},
   "source": [
    "We first find how many days have elapsed between January 1st 2021 and December 31st 2023"
   ]
  },
  {
   "cell_type": "code",
   "execution_count": 30,
   "id": "377858aa",
   "metadata": {},
   "outputs": [
    {
     "name": "stdout",
     "output_type": "stream",
     "text": [
      "Total days elapsed 1094\n"
     ]
    }
   ],
   "source": [
    "from datetime import date\n",
    "\n",
    "start_date = date(2021, 1, 1)\n",
    "end_date = date(2023, 12, 31)\n",
    "delta = end_date-start_date\n",
    "\n",
    "print(\"Total days elapsed\", delta.days)"
   ]
  },
  {
   "cell_type": "markdown",
   "id": "c21d2688",
   "metadata": {},
   "source": [
    "Then we get the stations with total number of visits less than the total days elapsed. This means that the station gets at least less than 2 visits per day, either as a starting or an ending point.\n",
    "\n",
    "These stations can be considered to be phased out. However, we should look further than just the numbers. For example, if the station is located underneath a hill, then maybe the lack of visit is explainable."
   ]
  },
  {
   "cell_type": "code",
   "execution_count": 31,
   "id": "307c8f10",
   "metadata": {},
   "outputs": [
    {
     "data": {
      "text/html": [
       "<div>\n",
       "<style scoped>\n",
       "    .dataframe tbody tr th:only-of-type {\n",
       "        vertical-align: middle;\n",
       "    }\n",
       "\n",
       "    .dataframe tbody tr th {\n",
       "        vertical-align: top;\n",
       "    }\n",
       "\n",
       "    .dataframe thead th {\n",
       "        text-align: right;\n",
       "    }\n",
       "</style>\n",
       "<table border=\"1\" class=\"dataframe\">\n",
       "  <thead>\n",
       "    <tr style=\"text-align: right;\">\n",
       "      <th></th>\n",
       "      <th>station_id</th>\n",
       "      <th>start_count</th>\n",
       "      <th>end_count</th>\n",
       "    </tr>\n",
       "  </thead>\n",
       "  <tbody>\n",
       "    <tr>\n",
       "      <th>402</th>\n",
       "      <td>BK-C9</td>\n",
       "      <td>1623</td>\n",
       "      <td>814</td>\n",
       "    </tr>\n",
       "    <tr>\n",
       "      <th>421</th>\n",
       "      <td>SJ-O4</td>\n",
       "      <td>1361</td>\n",
       "      <td>978</td>\n",
       "    </tr>\n",
       "    <tr>\n",
       "      <th>431</th>\n",
       "      <td>SF-W29</td>\n",
       "      <td>1242</td>\n",
       "      <td>1036</td>\n",
       "    </tr>\n",
       "    <tr>\n",
       "      <th>434</th>\n",
       "      <td>SJ-C9</td>\n",
       "      <td>1233</td>\n",
       "      <td>1051</td>\n",
       "    </tr>\n",
       "    <tr>\n",
       "      <th>436</th>\n",
       "      <td>SJ-Q4</td>\n",
       "      <td>1222</td>\n",
       "      <td>1088</td>\n",
       "    </tr>\n",
       "    <tr>\n",
       "      <th>...</th>\n",
       "      <td>...</td>\n",
       "      <td>...</td>\n",
       "      <td>...</td>\n",
       "    </tr>\n",
       "    <tr>\n",
       "      <th>572</th>\n",
       "      <td>SF-LW29</td>\n",
       "      <td>4</td>\n",
       "      <td>4</td>\n",
       "    </tr>\n",
       "    <tr>\n",
       "      <th>573</th>\n",
       "      <td>SF-LW4</td>\n",
       "      <td>4</td>\n",
       "      <td>4</td>\n",
       "    </tr>\n",
       "    <tr>\n",
       "      <th>574</th>\n",
       "      <td>SF-LW27</td>\n",
       "      <td>4</td>\n",
       "      <td>5</td>\n",
       "    </tr>\n",
       "    <tr>\n",
       "      <th>575</th>\n",
       "      <td>SF-LW3</td>\n",
       "      <td>3</td>\n",
       "      <td>4</td>\n",
       "    </tr>\n",
       "    <tr>\n",
       "      <th>576</th>\n",
       "      <td>SF-LW15</td>\n",
       "      <td>3</td>\n",
       "      <td>3</td>\n",
       "    </tr>\n",
       "  </tbody>\n",
       "</table>\n",
       "<p>141 rows × 3 columns</p>\n",
       "</div>"
      ],
      "text/plain": [
       "    station_id  start_count  end_count\n",
       "402      BK-C9         1623        814\n",
       "421      SJ-O4         1361        978\n",
       "431     SF-W29         1242       1036\n",
       "434      SJ-C9         1233       1051\n",
       "436      SJ-Q4         1222       1088\n",
       "..         ...          ...        ...\n",
       "572    SF-LW29            4          4\n",
       "573     SF-LW4            4          4\n",
       "574    SF-LW27            4          5\n",
       "575     SF-LW3            3          4\n",
       "576    SF-LW15            3          3\n",
       "\n",
       "[141 rows x 3 columns]"
      ]
     },
     "execution_count": 31,
     "metadata": {},
     "output_type": "execute_result"
    }
   ],
   "source": [
    "station_counts.query(f\"start_count < {delta.days} | end_count < {delta.days}\")"
   ]
  },
  {
   "cell_type": "markdown",
   "id": "8d4fd31b",
   "metadata": {},
   "source": [
    "### Question 6 - Seasonal Patterns of Stations"
   ]
  },
  {
   "cell_type": "markdown",
   "id": "9483f351",
   "metadata": {},
   "source": [
    "Start by stacking the count of both the start and the end station since we want to see the total station visit"
   ]
  },
  {
   "cell_type": "code",
   "execution_count": 32,
   "id": "e235dc65",
   "metadata": {},
   "outputs": [
    {
     "data": {
      "text/html": [
       "<div>\n",
       "<style scoped>\n",
       "    .dataframe tbody tr th:only-of-type {\n",
       "        vertical-align: middle;\n",
       "    }\n",
       "\n",
       "    .dataframe tbody tr th {\n",
       "        vertical-align: top;\n",
       "    }\n",
       "\n",
       "    .dataframe thead th {\n",
       "        text-align: right;\n",
       "    }\n",
       "</style>\n",
       "<table border=\"1\" class=\"dataframe\">\n",
       "  <thead>\n",
       "    <tr style=\"text-align: right;\">\n",
       "      <th></th>\n",
       "      <th>station_id</th>\n",
       "      <th>month</th>\n",
       "    </tr>\n",
       "  </thead>\n",
       "  <tbody>\n",
       "    <tr>\n",
       "      <th>0</th>\n",
       "      <td>NaN</td>\n",
       "      <td>1</td>\n",
       "    </tr>\n",
       "    <tr>\n",
       "      <th>1</th>\n",
       "      <td>SF-I24</td>\n",
       "      <td>1</td>\n",
       "    </tr>\n",
       "    <tr>\n",
       "      <th>2</th>\n",
       "      <td>NaN</td>\n",
       "      <td>1</td>\n",
       "    </tr>\n",
       "    <tr>\n",
       "      <th>3</th>\n",
       "      <td>SF-G30-1</td>\n",
       "      <td>1</td>\n",
       "    </tr>\n",
       "    <tr>\n",
       "      <th>4</th>\n",
       "      <td>NaN</td>\n",
       "      <td>1</td>\n",
       "    </tr>\n",
       "    <tr>\n",
       "      <th>...</th>\n",
       "      <td>...</td>\n",
       "      <td>...</td>\n",
       "    </tr>\n",
       "    <tr>\n",
       "      <th>1162387</th>\n",
       "      <td>SF-F29</td>\n",
       "      <td>12</td>\n",
       "    </tr>\n",
       "    <tr>\n",
       "      <th>1162388</th>\n",
       "      <td>SF-D28</td>\n",
       "      <td>12</td>\n",
       "    </tr>\n",
       "    <tr>\n",
       "      <th>1162389</th>\n",
       "      <td>SF-D28</td>\n",
       "      <td>12</td>\n",
       "    </tr>\n",
       "    <tr>\n",
       "      <th>1162390</th>\n",
       "      <td>SF-D28</td>\n",
       "      <td>12</td>\n",
       "    </tr>\n",
       "    <tr>\n",
       "      <th>1162391</th>\n",
       "      <td>SF-D28</td>\n",
       "      <td>12</td>\n",
       "    </tr>\n",
       "  </tbody>\n",
       "</table>\n",
       "<p>14324784 rows × 2 columns</p>\n",
       "</div>"
      ],
      "text/plain": [
       "        station_id  month\n",
       "0              NaN      1\n",
       "1           SF-I24      1\n",
       "2              NaN      1\n",
       "3         SF-G30-1      1\n",
       "4              NaN      1\n",
       "...            ...    ...\n",
       "1162387     SF-F29     12\n",
       "1162388     SF-D28     12\n",
       "1162389     SF-D28     12\n",
       "1162390     SF-D28     12\n",
       "1162391     SF-D28     12\n",
       "\n",
       "[14324784 rows x 2 columns]"
      ]
     },
     "execution_count": 32,
     "metadata": {},
     "output_type": "execute_result"
    }
   ],
   "source": [
    "visits = pd.concat([\n",
    "    rides[['start_station_id', 'month']].rename(columns={'start_station_id':'station_id'}),\n",
    "    rides[['end_station_id', 'month']].rename(columns={'end_station_id':'station_id'}),\n",
    "])\n",
    "\n",
    "visits['month'] = visits['month'].astype('str')\n",
    "visits['month'] = visits['month'].str[5:7]\n",
    "visits['month'] = visits['month'].astype('int64')\n",
    "visits"
   ]
  },
  {
   "cell_type": "markdown",
   "id": "134dd782",
   "metadata": {},
   "source": [
    "Here we create our variation. Our variation uses range, which denotes the difference between the minimum and maximum values"
   ]
  },
  {
   "cell_type": "code",
   "execution_count": 33,
   "id": "5a3975d2",
   "metadata": {},
   "outputs": [
    {
     "data": {
      "text/html": [
       "<div>\n",
       "<style scoped>\n",
       "    .dataframe tbody tr th:only-of-type {\n",
       "        vertical-align: middle;\n",
       "    }\n",
       "\n",
       "    .dataframe tbody tr th {\n",
       "        vertical-align: top;\n",
       "    }\n",
       "\n",
       "    .dataframe thead th {\n",
       "        text-align: right;\n",
       "    }\n",
       "</style>\n",
       "<table border=\"1\" class=\"dataframe\">\n",
       "  <thead>\n",
       "    <tr style=\"text-align: right;\">\n",
       "      <th>month</th>\n",
       "      <th>1</th>\n",
       "      <th>2</th>\n",
       "      <th>3</th>\n",
       "      <th>4</th>\n",
       "      <th>5</th>\n",
       "      <th>6</th>\n",
       "      <th>7</th>\n",
       "      <th>8</th>\n",
       "      <th>9</th>\n",
       "      <th>10</th>\n",
       "      <th>11</th>\n",
       "      <th>12</th>\n",
       "      <th>range</th>\n",
       "    </tr>\n",
       "    <tr>\n",
       "      <th>station_id</th>\n",
       "      <th></th>\n",
       "      <th></th>\n",
       "      <th></th>\n",
       "      <th></th>\n",
       "      <th></th>\n",
       "      <th></th>\n",
       "      <th></th>\n",
       "      <th></th>\n",
       "      <th></th>\n",
       "      <th></th>\n",
       "      <th></th>\n",
       "      <th></th>\n",
       "      <th></th>\n",
       "    </tr>\n",
       "  </thead>\n",
       "  <tbody>\n",
       "    <tr>\n",
       "      <th>BK-A3</th>\n",
       "      <td>431</td>\n",
       "      <td>353</td>\n",
       "      <td>456</td>\n",
       "      <td>480</td>\n",
       "      <td>624</td>\n",
       "      <td>577</td>\n",
       "      <td>576</td>\n",
       "      <td>534</td>\n",
       "      <td>740</td>\n",
       "      <td>743</td>\n",
       "      <td>508</td>\n",
       "      <td>394</td>\n",
       "      <td>390</td>\n",
       "    </tr>\n",
       "    <tr>\n",
       "      <th>BK-A7</th>\n",
       "      <td>584</td>\n",
       "      <td>580</td>\n",
       "      <td>680</td>\n",
       "      <td>738</td>\n",
       "      <td>789</td>\n",
       "      <td>950</td>\n",
       "      <td>792</td>\n",
       "      <td>909</td>\n",
       "      <td>815</td>\n",
       "      <td>825</td>\n",
       "      <td>688</td>\n",
       "      <td>412</td>\n",
       "      <td>538</td>\n",
       "    </tr>\n",
       "    <tr>\n",
       "      <th>BK-B7</th>\n",
       "      <td>296</td>\n",
       "      <td>378</td>\n",
       "      <td>443</td>\n",
       "      <td>461</td>\n",
       "      <td>453</td>\n",
       "      <td>451</td>\n",
       "      <td>475</td>\n",
       "      <td>457</td>\n",
       "      <td>580</td>\n",
       "      <td>653</td>\n",
       "      <td>536</td>\n",
       "      <td>335</td>\n",
       "      <td>357</td>\n",
       "    </tr>\n",
       "    <tr>\n",
       "      <th>BK-B9</th>\n",
       "      <td>492</td>\n",
       "      <td>568</td>\n",
       "      <td>593</td>\n",
       "      <td>763</td>\n",
       "      <td>765</td>\n",
       "      <td>715</td>\n",
       "      <td>633</td>\n",
       "      <td>742</td>\n",
       "      <td>1049</td>\n",
       "      <td>1188</td>\n",
       "      <td>794</td>\n",
       "      <td>513</td>\n",
       "      <td>696</td>\n",
       "    </tr>\n",
       "    <tr>\n",
       "      <th>BK-C1</th>\n",
       "      <td>341</td>\n",
       "      <td>357</td>\n",
       "      <td>376</td>\n",
       "      <td>500</td>\n",
       "      <td>600</td>\n",
       "      <td>442</td>\n",
       "      <td>484</td>\n",
       "      <td>500</td>\n",
       "      <td>515</td>\n",
       "      <td>523</td>\n",
       "      <td>461</td>\n",
       "      <td>335</td>\n",
       "      <td>265</td>\n",
       "    </tr>\n",
       "    <tr>\n",
       "      <th>...</th>\n",
       "      <td>...</td>\n",
       "      <td>...</td>\n",
       "      <td>...</td>\n",
       "      <td>...</td>\n",
       "      <td>...</td>\n",
       "      <td>...</td>\n",
       "      <td>...</td>\n",
       "      <td>...</td>\n",
       "      <td>...</td>\n",
       "      <td>...</td>\n",
       "      <td>...</td>\n",
       "      <td>...</td>\n",
       "      <td>...</td>\n",
       "    </tr>\n",
       "    <tr>\n",
       "      <th>SJ-Q5</th>\n",
       "      <td>78</td>\n",
       "      <td>111</td>\n",
       "      <td>98</td>\n",
       "      <td>141</td>\n",
       "      <td>139</td>\n",
       "      <td>136</td>\n",
       "      <td>91</td>\n",
       "      <td>97</td>\n",
       "      <td>88</td>\n",
       "      <td>104</td>\n",
       "      <td>54</td>\n",
       "      <td>53</td>\n",
       "      <td>88</td>\n",
       "    </tr>\n",
       "    <tr>\n",
       "      <th>SJ-Q8</th>\n",
       "      <td>66</td>\n",
       "      <td>78</td>\n",
       "      <td>55</td>\n",
       "      <td>93</td>\n",
       "      <td>76</td>\n",
       "      <td>94</td>\n",
       "      <td>97</td>\n",
       "      <td>82</td>\n",
       "      <td>77</td>\n",
       "      <td>92</td>\n",
       "      <td>81</td>\n",
       "      <td>43</td>\n",
       "      <td>54</td>\n",
       "    </tr>\n",
       "    <tr>\n",
       "      <th>SJ-Q9</th>\n",
       "      <td>29</td>\n",
       "      <td>46</td>\n",
       "      <td>35</td>\n",
       "      <td>69</td>\n",
       "      <td>47</td>\n",
       "      <td>41</td>\n",
       "      <td>57</td>\n",
       "      <td>47</td>\n",
       "      <td>46</td>\n",
       "      <td>44</td>\n",
       "      <td>49</td>\n",
       "      <td>27</td>\n",
       "      <td>42</td>\n",
       "    </tr>\n",
       "    <tr>\n",
       "      <th>SJ-R11</th>\n",
       "      <td>75</td>\n",
       "      <td>121</td>\n",
       "      <td>164</td>\n",
       "      <td>126</td>\n",
       "      <td>149</td>\n",
       "      <td>182</td>\n",
       "      <td>187</td>\n",
       "      <td>230</td>\n",
       "      <td>252</td>\n",
       "      <td>308</td>\n",
       "      <td>241</td>\n",
       "      <td>95</td>\n",
       "      <td>233</td>\n",
       "    </tr>\n",
       "    <tr>\n",
       "      <th>Sf-Z17</th>\n",
       "      <td>0</td>\n",
       "      <td>0</td>\n",
       "      <td>0</td>\n",
       "      <td>0</td>\n",
       "      <td>0</td>\n",
       "      <td>0</td>\n",
       "      <td>0</td>\n",
       "      <td>0</td>\n",
       "      <td>40</td>\n",
       "      <td>77</td>\n",
       "      <td>40</td>\n",
       "      <td>34</td>\n",
       "      <td>77</td>\n",
       "    </tr>\n",
       "  </tbody>\n",
       "</table>\n",
       "<p>576 rows × 13 columns</p>\n",
       "</div>"
      ],
      "text/plain": [
       "month         1    2    3    4    5    6    7    8     9    10   11   12  \\\n",
       "station_id                                                                 \n",
       "BK-A3       431  353  456  480  624  577  576  534   740   743  508  394   \n",
       "BK-A7       584  580  680  738  789  950  792  909   815   825  688  412   \n",
       "BK-B7       296  378  443  461  453  451  475  457   580   653  536  335   \n",
       "BK-B9       492  568  593  763  765  715  633  742  1049  1188  794  513   \n",
       "BK-C1       341  357  376  500  600  442  484  500   515   523  461  335   \n",
       "...         ...  ...  ...  ...  ...  ...  ...  ...   ...   ...  ...  ...   \n",
       "SJ-Q5        78  111   98  141  139  136   91   97    88   104   54   53   \n",
       "SJ-Q8        66   78   55   93   76   94   97   82    77    92   81   43   \n",
       "SJ-Q9        29   46   35   69   47   41   57   47    46    44   49   27   \n",
       "SJ-R11       75  121  164  126  149  182  187  230   252   308  241   95   \n",
       "Sf-Z17        0    0    0    0    0    0    0    0    40    77   40   34   \n",
       "\n",
       "month       range  \n",
       "station_id         \n",
       "BK-A3         390  \n",
       "BK-A7         538  \n",
       "BK-B7         357  \n",
       "BK-B9         696  \n",
       "BK-C1         265  \n",
       "...           ...  \n",
       "SJ-Q5          88  \n",
       "SJ-Q8          54  \n",
       "SJ-Q9          42  \n",
       "SJ-R11        233  \n",
       "Sf-Z17         77  \n",
       "\n",
       "[576 rows x 13 columns]"
      ]
     },
     "execution_count": 33,
     "metadata": {},
     "output_type": "execute_result"
    }
   ],
   "source": [
    "monthly = (\n",
    "    visits\n",
    "        .groupby(['station_id', 'month'])\n",
    "        .size()\n",
    "        .unstack(fill_value=0)\n",
    ")\n",
    "\n",
    "monthly['range'] = monthly.max(axis=1) - monthly.min(axis=1)\n",
    "\n",
    "monthly"
   ]
  },
  {
   "cell_type": "markdown",
   "id": "9ec98778",
   "metadata": {},
   "source": [
    "Now we sort to get the top 5"
   ]
  },
  {
   "cell_type": "code",
   "execution_count": 34,
   "id": "5098be54",
   "metadata": {},
   "outputs": [
    {
     "data": {
      "text/plain": [
       "station_id\n",
       "SF-J29      8841\n",
       "SF-E29-2    8480\n",
       "SF-J23-1    6533\n",
       "SF-A22      6220\n",
       "SF-G27      5992\n",
       "Name: range, dtype: int64"
      ]
     },
     "execution_count": 34,
     "metadata": {},
     "output_type": "execute_result"
    }
   ],
   "source": [
    "top_variation = monthly['range'].sort_values(ascending=False).head(5)\n",
    "top_variation"
   ]
  },
  {
   "cell_type": "markdown",
   "id": "d8a1467a",
   "metadata": {},
   "source": [
    "Plot of the top 5"
   ]
  },
  {
   "cell_type": "code",
   "execution_count": 35,
   "id": "8a9412dd",
   "metadata": {},
   "outputs": [
    {
     "data": {
      "text/plain": [
       "<Axes: xlabel='month', ylabel='Number of visits'>"
      ]
     },
     "execution_count": 35,
     "metadata": {},
     "output_type": "execute_result"
    },
    {
     "data": {
      "image/png": "[encoded data removed]",
      "text/plain": [
       "<Figure size 1200x700 with 1 Axes>"
      ]
     },
     "metadata": {},
     "output_type": "display_data"
    }
   ],
   "source": [
    "monthly.loc[top_variation.index, list(range(1,13))].T.plot(figsize=(12, 7), ylabel='Number of visits', stacked=False)"
   ]
  },
  {
   "cell_type": "markdown",
   "id": "d0804c24",
   "metadata": {},
   "source": [
    "Now we try finding the highest jump between month to month of our top 5 stations with the highest range."
   ]
  },
  {
   "cell_type": "code",
   "execution_count": null,
   "id": "e7d593be",
   "metadata": {},
   "outputs": [
    {
     "name": "stdout",
     "output_type": "stream",
     "text": [
      "Maximum variation for SF-J29 is 3496, between Oct and Nov\n",
      "Maximum variation for SF-E29-2 is 4086, between Oct and Nov\n",
      "Maximum variation for SF-J23-1 is 3905, between Oct and Nov\n",
      "Maximum variation for SF-A22 is 2528, between Oct and Nov\n",
      "Maximum variation for SF-G27 is 2271, between Oct and Nov\n"
     ]
    }
   ],
   "source": [
    "import calendar\n",
    "\n",
    "for i in range(len(top_variation.index)):\n",
    "    curr_item = monthly.loc[top_variation.index[i]]\n",
    "    max_diff = 0\n",
    "    month_start = 0\n",
    "    month_end = 1\n",
    "    for j in range(len(curr_item)-2):\n",
    "        diff = abs(curr_item.iloc[j] - curr_item.iloc[j+1])\n",
    "        if (diff > max_diff):\n",
    "            max_diff = diff\n",
    "            month_start = j\n",
    "            month_end = j+1\n",
    "    print(f\"Maximum variation for {curr_item.name} is {max_diff}, between {calendar.month_abbr[month_start]} and {calendar.month_abbr[month_end]}\")"
   ]
  }
 ],
 "metadata": {
  "kernelspec": {
   "display_name": "base",
   "language": "python",
   "name": "python3"
  },
  "language_info": {
   "codemirror_mode": {
    "name": "ipython",
    "version": 3
   },
   "file_extension": ".py",
   "mimetype": "text/x-python",
   "name": "python",
   "nbconvert_exporter": "python",
   "pygments_lexer": "ipython3",
   "version": "3.12.7"
  }
 },
 "nbformat": 4,
 "nbformat_minor": 5
}
