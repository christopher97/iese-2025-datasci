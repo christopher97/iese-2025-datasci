{
 "cells": [
  {
   "cell_type": "markdown",
   "id": "33f2fda3",
   "metadata": {},
   "source": [
    "# Bay Wheels Operation"
   ]
  },
  {
   "cell_type": "code",
   "execution_count": null,
   "id": "ba49d65e",
   "metadata": {},
   "outputs": [],
   "source": [
    "import pandas as pd"
   ]
  },
  {
   "cell_type": "code",
   "execution_count": null,
   "id": "bd75e20b",
   "metadata": {},
   "outputs": [],
   "source": [
    "path = 'https://raw.githubusercontent.com/MCanela-1954/Data/main/'"
   ]
  },
  {
   "cell_type": "code",
   "execution_count": null,
   "id": "907ddc8c",
   "metadata": {},
   "outputs": [],
   "source": [
    "rides1 = pd.read_csv(path + 'bay_rides-1.csv.zip')\n",
    "rides2 = pd.read_csv(path + 'bay_rides-2.csv.zip')\n",
    "rides3 = pd.read_csv(path + 'bay_rides-3.csv.zip')\n",
    "rides4 = pd.read_csv(path + 'bay_rides-4.csv.zip')\n",
    "rides5 = pd.read_csv(path + 'bay_rides-5.csv.zip')"
   ]
  },
  {
   "cell_type": "code",
   "execution_count": null,
   "id": "99dd0189",
   "metadata": {},
   "outputs": [],
   "source": [
    "rides = pd.concat([rides1, rides2, rides3, rides4, rides5])"
   ]
  },
  {
   "cell_type": "code",
   "execution_count": null,
   "id": "f78ce5c1",
   "metadata": {},
   "outputs": [],
   "source": [
    "rides.info()"
   ]
  },
  {
   "cell_type": "code",
   "execution_count": null,
   "id": "796c2ffa",
   "metadata": {},
   "outputs": [],
   "source": [
    "rides.head()"
   ]
  },
  {
   "cell_type": "markdown",
   "id": "e49c8778",
   "metadata": {},
   "source": [
    "We group by month to see the monthly variation in demand"
   ]
  },
  {
   "cell_type": "code",
   "execution_count": null,
   "id": "e8a44a84",
   "metadata": {},
   "outputs": [],
   "source": [
    "rides['month'] = rides['start_time'].str[:-11] + '01 00:00:00'\n",
    "rides.head()"
   ]
  },
  {
   "cell_type": "code",
   "execution_count": null,
   "id": "b76f5e08",
   "metadata": {},
   "outputs": [],
   "source": [
    "rides['month'] = rides['month'].astype('datetime64[ns]')\n",
    "rides.info()"
   ]
  },
  {
   "cell_type": "code",
   "execution_count": null,
   "id": "74c576fb",
   "metadata": {},
   "outputs": [],
   "source": [
    "rides['electric'] = (rides['bike_type'] == 'electric')\n",
    "rides['classic'] = (rides['bike_type'] == 'classic')"
   ]
  },
  {
   "cell_type": "markdown",
   "id": "153ad7e6",
   "metadata": {},
   "source": [
    "We sum the data to group it by month"
   ]
  },
  {
   "cell_type": "markdown",
   "id": "e90762ed",
   "metadata": {},
   "source": [
    "### Question 1 - Analysis of the Variation in Demand Between Classic and Electric Bikes"
   ]
  },
  {
   "cell_type": "code",
   "execution_count": null,
   "id": "6fb637c9",
   "metadata": {},
   "outputs": [],
   "source": [
    "df1 = rides[['month', 'electric', 'classic']].groupby(by='month').sum()\n",
    "df1.head()"
   ]
  },
  {
   "cell_type": "markdown",
   "id": "c81d1c72",
   "metadata": {},
   "source": [
    "Indexed using month"
   ]
  },
  {
   "cell_type": "code",
   "execution_count": null,
   "id": "94f93ff4",
   "metadata": {},
   "outputs": [],
   "source": [
    "df1.index"
   ]
  },
  {
   "cell_type": "code",
   "execution_count": null,
   "id": "986535f9",
   "metadata": {},
   "outputs": [],
   "source": [
    "df1.index.name = None"
   ]
  },
  {
   "cell_type": "code",
   "execution_count": null,
   "id": "b81e6084",
   "metadata": {},
   "outputs": [],
   "source": [
    "df1['total'] = df1['classic'] + df1['electric']"
   ]
  },
  {
   "cell_type": "markdown",
   "id": "35f16314",
   "metadata": {},
   "source": [
    "The result of grouping by month"
   ]
  },
  {
   "cell_type": "code",
   "execution_count": null,
   "id": "6427011a",
   "metadata": {},
   "outputs": [],
   "source": [
    "df1['month'] = df1.index\n",
    "df1.head()"
   ]
  },
  {
   "cell_type": "code",
   "execution_count": null,
   "id": "09788609",
   "metadata": {},
   "outputs": [],
   "source": [
    "df1[['electric', 'classic', 'month']].groupby('month').sum().plot(figsize=(7,5),\n",
    "    title='Figure 1. Trend of total demand based on bike type', color=['0.4', '0.7'])"
   ]
  },
  {
   "cell_type": "code",
   "execution_count": null,
   "id": "e4f0c4a0",
   "metadata": {},
   "outputs": [],
   "source": [
    "df1.tail(8)"
   ]
  },
  {
   "cell_type": "markdown",
   "id": "876c3ad4",
   "metadata": {},
   "source": [
    "As we can see, the trend of both electric and classic bikes are the same, with both reaching their own respective peaks and lows depending on the seasonality. However, in the end 2023, there is a significant dip for the electric bike demand compared to the classic bike demand, which continued to record increase in demand unlike electric, which started to record decrease since November 2023.\n",
    "\n",
    "Data in the first quarter of 2024 can greatly help see whether it is just an anomaly if the trend goes back to the trend that was seen in previous years."
   ]
  },
  {
   "cell_type": "markdown",
   "id": "f961617f",
   "metadata": {},
   "source": [
    "Let us go further than the initial question by looking at other statistics. Looking only at the trend does not show us the change in share between the two products in percentage. Let us see how the percentage has changed over the year."
   ]
  },
  {
   "cell_type": "code",
   "execution_count": null,
   "id": "741b7150",
   "metadata": {},
   "outputs": [],
   "source": [
    "# Extract the year\n",
    "df1['year'] = df1['month'].dt.year\n",
    "\n",
    "# Group by year and bike type and sum\n",
    "yearly_bike_type = df1.groupby('year')[['electric', 'classic']].sum()\n",
    "\n",
    "# Calculate the total rides per year\n",
    "yearly_bike_type['total'] = yearly_bike_type['electric'] + yearly_bike_type['classic']\n",
    "\n",
    "# Calculate the percentage share\n",
    "yearly_bike_type['electric_percentage'] = (yearly_bike_type['electric'] / yearly_bike_type['total']) * 100\n",
    "yearly_bike_type['classic_percentage'] = (yearly_bike_type['classic'] / yearly_bike_type['total']) * 100\n",
    "\n",
    "# Display the result\n",
    "print(yearly_bike_type[['electric_percentage', 'classic_percentage']])"
   ]
  },
  {
   "cell_type": "markdown",
   "id": "db99719c",
   "metadata": {},
   "source": [
    "In terms of share, we can conclude that classic has increased in share between the two. However, this can lead us into believing that the total demand for electric is sinking, and it is being taken over by classic. Therefore, we should calculate the CAGR (compounded annual growth rate) to see the growth of each product individually."
   ]
  },
  {
   "cell_type": "code",
   "execution_count": null,
   "id": "3c2f5492",
   "metadata": {},
   "outputs": [],
   "source": [
    "# Assuming 'yearly_bike_type' DataFrame is already created and contains 'electric' and 'classic' rides per year\n",
    "\n",
    "# Get the first and last year in your data\n",
    "first_year = yearly_bike_type.index.min()\n",
    "last_year = yearly_bike_type.index.max()\n",
    "\n",
    "# Get the ride counts for the first and last full year for electric and classic\n",
    "beginning_electric = yearly_bike_type.loc[first_year, 'electric']\n",
    "ending_electric = yearly_bike_type.loc[last_year, 'electric']\n",
    "\n",
    "beginning_classic = yearly_bike_type.loc[first_year, 'classic']\n",
    "ending_classic = yearly_bike_type.loc[last_year, 'classic']\n",
    "\n",
    "# Determine the number of years\n",
    "number_of_years = last_year - first_year\n",
    "\n",
    "# Calculate CAGR for electric bikes\n",
    "cagr_electric = (ending_electric / beginning_electric)**(1 / number_of_years) - 1\n",
    "\n",
    "# Calculate CAGR for classic bikes\n",
    "cagr_classic = (ending_classic / beginning_classic)**(1 / number_of_years) - 1\n",
    "\n",
    "print(f\"The Compound Annual Growth Rate (CAGR) for electric rides from {first_year} to {last_year} is: {cagr_electric:.2%}\")\n",
    "print(f\"The Compound Annual Growth Rate (CAGR) for classic rides from {first_year} to {last_year} is: {cagr_classic:.2%}\")"
   ]
  },
  {
   "cell_type": "markdown",
   "id": "1dc244ce",
   "metadata": {},
   "source": [
    "By calculating the CAGR, we now know that both products are growing in demand. However, since classic had lower starting point, it is generally easier for products with lower amount of demand in the beginning to get a higher growth."
   ]
  },
  {
   "cell_type": "markdown",
   "id": "74e5a6f3",
   "metadata": {},
   "source": [
    "### Question 2 - Dockless Sharing Trend Analysis"
   ]
  },
  {
   "cell_type": "code",
   "execution_count": null,
   "id": "55a0bbc9",
   "metadata": {},
   "outputs": [],
   "source": [
    "rides['dockless'] = rides['start_station_id'].isnull() | rides['end_station_id'].isnull()\n",
    "rides['reg_electric'] = (rides['electric'] & ((rides['start_station_id'].isnull() | rides['end_station_id'].isnull()) == False))\n",
    "rides.head()"
   ]
  },
  {
   "cell_type": "code",
   "execution_count": null,
   "id": "662eb235",
   "metadata": {},
   "outputs": [],
   "source": [
    "df2 = rides[['month', 'classic', 'electric', 'dockless', 'reg_electric']].groupby(by='month').sum()\n",
    "df2.head()"
   ]
  },
  {
   "cell_type": "markdown",
   "id": "67c7ecbb",
   "metadata": {},
   "source": [
    "We evaluate the truthfulness that only electrics can be dockless, and we get the difference between all electric and dockless electric"
   ]
  },
  {
   "cell_type": "code",
   "execution_count": null,
   "id": "41813137",
   "metadata": {},
   "outputs": [],
   "source": [
    "electric = rides['electric'].sum()\n",
    "dockless_electric = (rides['dockless'] & rides['electric']).sum()\n",
    "docking_electric = (rides['electric'] & (rides['dockless'] == False)).sum()\n",
    "classic = rides['classic'].sum()\n",
    "dockless_classic = (rides['dockless'] & rides['classic']).sum()\n",
    "\n",
    "print(\"Electric Total          : %10d\" % electric)\n",
    "print(\"Dockless Electric Total : %10d\" % dockless_electric)\n",
    "print(\"Docking Electric Total  : %10d\" % docking_electric)\n",
    "print(\"Classic Total           : %10d\" % classic)\n",
    "print(\"Dockless Classic Total  : %10d\" % dockless_classic)"
   ]
  },
  {
   "cell_type": "markdown",
   "id": "a2844918",
   "metadata": {},
   "source": [
    "We have proved that only electrics can be dockless"
   ]
  },
  {
   "cell_type": "code",
   "execution_count": null,
   "id": "df3354d7",
   "metadata": {},
   "outputs": [],
   "source": [
    "df2.index.name = None"
   ]
  },
  {
   "cell_type": "code",
   "execution_count": null,
   "id": "6a25bd09",
   "metadata": {},
   "outputs": [],
   "source": [
    "df2['month'] = df2.index\n",
    "df2.head()"
   ]
  },
  {
   "cell_type": "code",
   "execution_count": null,
   "id": "6098878e",
   "metadata": {},
   "outputs": [],
   "source": [
    "df2[['electric', 'dockless', 'reg_electric', 'month']].groupby('month').sum().plot(figsize=(7,5),\n",
    "    title='Figure 2. Trend of total demand compared to dockless', color=['0.25', '0.5', '0.75'])"
   ]
  },
  {
   "cell_type": "markdown",
   "id": "a9fd39ba",
   "metadata": {},
   "source": [
    "As seen on the trend above, the trend of dockless electric bikes closely follow the change in trend of all electric bikes. However, dockless electric rides are initially more popular than docking electric rides, from January to April 2021. After that point, dockless electric rides have been less popular than docking electric rides.\n",
    "\n",
    "The trend started to take shape starting in January 2022, and since January 2023, the trend for all electric rides, which consists of docking and dockless are almost the exact same. Both also follow the trend for electric ride as a whole. This means that probably, after the initial launch of dockless rides, each segment has its own users."
   ]
  },
  {
   "cell_type": "markdown",
   "id": "754531c7",
   "metadata": {},
   "source": [
    "### Question 3 - Comparison of Starting and Ending Stations"
   ]
  },
  {
   "cell_type": "markdown",
   "id": "f32eedca",
   "metadata": {},
   "source": [
    "We first have to create a new dataframe which consists of the station IDs and the counts of both start and end"
   ]
  },
  {
   "cell_type": "code",
   "execution_count": null,
   "id": "f74c3f69",
   "metadata": {},
   "outputs": [],
   "source": [
    "station_counts = (\n",
    "    pd.concat(\n",
    "        [rides['start_station_id'].value_counts(dropna=False),\n",
    "         rides['end_station_id'].value_counts(dropna=False)],\n",
    "         axis=1,\n",
    "         keys=['start_count', 'end_count']\n",
    "    )\n",
    "    .fillna(0)\n",
    "    .astype(int)\n",
    "    .rename_axis('station_id')\n",
    "    .reset_index()\n",
    ")"
   ]
  },
  {
   "cell_type": "markdown",
   "id": "c497708c",
   "metadata": {},
   "source": [
    "The NaN value, however, is not a string, and therefore will not be searchable. Hence, we convert it into a string"
   ]
  },
  {
   "cell_type": "code",
   "execution_count": null,
   "id": "3267e1aa",
   "metadata": {},
   "outputs": [],
   "source": [
    "station_counts['station_id'] = (\n",
    "    station_counts['station_id']\n",
    "    .fillna('NaN')\n",
    ")\n",
    "\n",
    "station_counts.head()"
   ]
  },
  {
   "cell_type": "markdown",
   "id": "fd3c7dbf",
   "metadata": {},
   "source": [
    "The top 10 starting station IDs"
   ]
  },
  {
   "cell_type": "code",
   "execution_count": null,
   "id": "397f2e60",
   "metadata": {},
   "outputs": [],
   "source": [
    "starting = station_counts[['station_id', 'start_count']].sort_values('start_count', ascending=False).head(11)\n",
    "starting"
   ]
  },
  {
   "cell_type": "markdown",
   "id": "1c416c2a",
   "metadata": {},
   "source": [
    "The top 10 starting station IDs"
   ]
  },
  {
   "cell_type": "code",
   "execution_count": null,
   "id": "4efdf677",
   "metadata": {},
   "outputs": [],
   "source": [
    "ending = station_counts[['station_id', 'end_count']].sort_values('end_count', ascending=False).head(11)\n",
    "ending"
   ]
  },
  {
   "cell_type": "code",
   "execution_count": null,
   "id": "20ca62a2",
   "metadata": {},
   "outputs": [],
   "source": [
    "def find_different_count(station_data):\n",
    "    index = 0\n",
    "    while(index < len(station_data)):\n",
    "        start = starting.iloc[index]['station_id']\n",
    "        end = ending.iloc[index]['station_id']\n",
    "\n",
    "        if start != end:\n",
    "            print(\"Starting and ending stations at number\", index+1, \"are different\")\n",
    "            print(\"Start ID =\", start, \"End ID =\", end)\n",
    "            break\n",
    "\n",
    "        index+=1\n",
    "\n",
    "\n",
    "find_different_count(station_counts)"
   ]
  },
  {
   "cell_type": "markdown",
   "id": "127da3ea",
   "metadata": {},
   "source": [
    "The top 10 are the same if we consider the NaN (dockless) to be a station. Otherwise, the 11th most used station for both starting and ending are different"
   ]
  },
  {
   "cell_type": "markdown",
   "id": "5aa9300e",
   "metadata": {},
   "source": [
    "### Question 4 - Circular Ride Frequency"
   ]
  },
  {
   "cell_type": "code",
   "execution_count": null,
   "id": "392232b9",
   "metadata": {},
   "outputs": [],
   "source": [
    "df4 = rides\n",
    "df4['circular'] = (df4['start_station_id'] == df4['end_station_id'])\n",
    "df4.head(5)"
   ]
  },
  {
   "cell_type": "markdown",
   "id": "f9f4d48e",
   "metadata": {},
   "source": [
    "Because the 'circular' column is a boolean, we just sum them. Or we can also not sum them to see the difference between circular and non circular drives."
   ]
  },
  {
   "cell_type": "code",
   "execution_count": null,
   "id": "c44f3377",
   "metadata": {},
   "outputs": [],
   "source": [
    "df4['circular'].value_counts()"
   ]
  },
  {
   "cell_type": "markdown",
   "id": "67ab72a8",
   "metadata": {},
   "source": [
    "### Question 5 - Very Low Activity Stations"
   ]
  },
  {
   "cell_type": "markdown",
   "id": "5906897b",
   "metadata": {},
   "source": [
    "We first find how many days have elapsed between January 1st 2021 and December 31st 2023"
   ]
  },
  {
   "cell_type": "code",
   "execution_count": null,
   "id": "377858aa",
   "metadata": {},
   "outputs": [],
   "source": [
    "from datetime import date\n",
    "\n",
    "start_date = date(2021, 1, 1)\n",
    "end_date = date(2023, 12, 31)\n",
    "delta = end_date-start_date\n",
    "\n",
    "print(\"Total days elapsed\", delta.days)"
   ]
  },
  {
   "cell_type": "markdown",
   "id": "c21d2688",
   "metadata": {},
   "source": [
    "Then we get the stations with total number of visits less than the total days elapsed. This means that the station gets at least less than 2 visits per day, either as a starting or an ending point.\n",
    "\n",
    "These stations can be considered to be phased out. However, we should look further than just the numbers. For example, if the station is located underneath a hill, then maybe the lack of visit is explainable."
   ]
  },
  {
   "cell_type": "code",
   "execution_count": null,
   "id": "307c8f10",
   "metadata": {},
   "outputs": [],
   "source": [
    "station_counts.query(f\"start_count < {delta.days} | end_count < {delta.days}\")"
   ]
  },
  {
   "cell_type": "markdown",
   "id": "8d4fd31b",
   "metadata": {},
   "source": [
    "### Question 6 - Seasonal Patterns of Stations"
   ]
  },
  {
   "cell_type": "markdown",
   "id": "9483f351",
   "metadata": {},
   "source": [
    "Start by stacking the count of both the start and the end station since we want to see the total station visit"
   ]
  },
  {
   "cell_type": "code",
   "execution_count": null,
   "id": "e235dc65",
   "metadata": {},
   "outputs": [],
   "source": [
    "visits = pd.concat([\n",
    "    rides[['start_station_id', 'month']].rename(columns={'start_station_id':'station_id'}),\n",
    "    rides[['end_station_id', 'month']].rename(columns={'end_station_id':'station_id'}),\n",
    "])\n",
    "\n",
    "visits['month'] = visits['month'].astype('str')\n",
    "visits['month'] = visits['month'].str[5:7]\n",
    "visits['month'] = visits['month'].astype('int64')\n",
    "visits"
   ]
  },
  {
   "cell_type": "markdown",
   "id": "134dd782",
   "metadata": {},
   "source": [
    "Here we create our variation. Our variation uses range, which denotes the difference between the minimum and maximum values"
   ]
  },
  {
   "cell_type": "code",
   "execution_count": null,
   "id": "5a3975d2",
   "metadata": {},
   "outputs": [],
   "source": [
    "monthly = (\n",
    "    visits\n",
    "        .groupby(['station_id', 'month'])\n",
    "        .size()\n",
    "        .unstack(fill_value=0)\n",
    ")\n",
    "\n",
    "monthly['range'] = monthly.max(axis=1) - monthly.min(axis=1)\n",
    "\n",
    "monthly"
   ]
  },
  {
   "cell_type": "markdown",
   "id": "9ec98778",
   "metadata": {},
   "source": [
    "Now we sort to get the top 5"
   ]
  },
  {
   "cell_type": "code",
   "execution_count": null,
   "id": "5098be54",
   "metadata": {},
   "outputs": [],
   "source": [
    "top_variation = monthly['range'].sort_values(ascending=False).head(5)\n",
    "top_variation"
   ]
  },
  {
   "cell_type": "markdown",
   "id": "d8a1467a",
   "metadata": {},
   "source": [
    "Plot of the top 5"
   ]
  },
  {
   "cell_type": "code",
   "execution_count": null,
   "id": "8a9412dd",
   "metadata": {},
   "outputs": [],
   "source": [
    "monthly.loc[top_variation.index, list(range(1,13))].T.plot(figsize=(12, 7), ylabel='Number of visits', stacked=False)"
   ]
  },
  {
   "cell_type": "markdown",
   "id": "d0804c24",
   "metadata": {},
   "source": [
    "Now we try finding the highest jump between month to month of our top 5 stations with the highest range."
   ]
  },
  {
   "cell_type": "code",
   "execution_count": null,
   "id": "e7d593be",
   "metadata": {},
   "outputs": [],
   "source": [
    "import calendar\n",
    "\n",
    "for i in range(len(top_variation.index)):\n",
    "    curr_item = monthly.loc[top_variation.index[i]]\n",
    "    max_diff = 0\n",
    "    month_start = 0\n",
    "    month_end = 1\n",
    "    for j in range(len(curr_item)-2):\n",
    "        diff = abs(curr_item.iloc[j] - curr_item.iloc[j+1])\n",
    "        if (diff > max_diff):\n",
    "            max_diff = diff\n",
    "            month_start = j\n",
    "            month_end = j+1\n",
    "    print(f\"Maximum variation for {curr_item.name} is {max_diff}, between {calendar.month_abbr[month_start]} and {calendar.month_abbr[month_end]}\")"
   ]
  }
 ],
 "metadata": {
  "kernelspec": {
   "display_name": "base",
   "language": "python",
   "name": "python3"
  },
  "language_info": {
   "codemirror_mode": {
    "name": "ipython",
    "version": 3
   },
   "file_extension": ".py",
   "mimetype": "text/x-python",
   "name": "python",
   "nbconvert_exporter": "python",
   "pygments_lexer": "ipython3",
   "version": "3.12.7"
  }
 },
 "nbformat": 4,
 "nbformat_minor": 5
}
